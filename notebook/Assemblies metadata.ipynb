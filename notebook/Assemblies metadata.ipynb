{
 "cells": [
  {
   "cell_type": "code",
   "execution_count": 1,
   "metadata": {},
   "outputs": [],
   "source": [
    "import os\n",
    "\n",
    "import pandas as pd\n",
    "import numpy as np\n",
    "import matplotlib.pyplot as plt\n",
    "import seaborn as sns\n",
    "\n",
    "if os.getcwd().endswith('notebook'):\n",
    "    os.chdir('..')"
   ]
  },
  {
   "cell_type": "code",
   "execution_count": 2,
   "metadata": {},
   "outputs": [],
   "source": [
    "sns.set(palette='colorblind', font_scale=1.3)\n",
    "palette = sns.color_palette()"
   ]
  },
  {
   "cell_type": "markdown",
   "metadata": {},
   "source": [
    "## Load assemblies metadata file"
   ]
  },
  {
   "cell_type": "code",
   "execution_count": 3,
   "metadata": {},
   "outputs": [
    {
     "data": {
      "text/html": [
       "<div>\n",
       "<style scoped>\n",
       "    .dataframe tbody tr th:only-of-type {\n",
       "        vertical-align: middle;\n",
       "    }\n",
       "\n",
       "    .dataframe tbody tr th {\n",
       "        vertical-align: top;\n",
       "    }\n",
       "\n",
       "    .dataframe thead th {\n",
       "        text-align: right;\n",
       "    }\n",
       "</style>\n",
       "<table border=\"1\" class=\"dataframe\">\n",
       "  <thead>\n",
       "    <tr style=\"text-align: right;\">\n",
       "      <th></th>\n",
       "      <th>taxid</th>\n",
       "      <th>species_taxid</th>\n",
       "      <th>organism_name</th>\n",
       "      <th>domain</th>\n",
       "      <th>phylum</th>\n",
       "      <th>class</th>\n",
       "      <th>order</th>\n",
       "      <th>family</th>\n",
       "      <th>genus</th>\n",
       "      <th>species</th>\n",
       "      <th>strain</th>\n",
       "      <th>assembly_level</th>\n",
       "    </tr>\n",
       "    <tr>\n",
       "      <th>assembly_accession</th>\n",
       "      <th></th>\n",
       "      <th></th>\n",
       "      <th></th>\n",
       "      <th></th>\n",
       "      <th></th>\n",
       "      <th></th>\n",
       "      <th></th>\n",
       "      <th></th>\n",
       "      <th></th>\n",
       "      <th></th>\n",
       "      <th></th>\n",
       "      <th></th>\n",
       "    </tr>\n",
       "  </thead>\n",
       "  <tbody>\n",
       "    <tr>\n",
       "      <th>GCA_000010525.1</th>\n",
       "      <td>438753</td>\n",
       "      <td>7</td>\n",
       "      <td>Azorhizobium caulinodans ORS 571</td>\n",
       "      <td>Bacteria</td>\n",
       "      <td>Proteobacteria</td>\n",
       "      <td>Alphaproteobacteria</td>\n",
       "      <td>Rhizobiales</td>\n",
       "      <td>Xanthobacteraceae</td>\n",
       "      <td>Azorhizobium</td>\n",
       "      <td>Azorhizobium caulinodans</td>\n",
       "      <td>Azorhizobium caulinodans ORS 571</td>\n",
       "      <td>Complete Genome</td>\n",
       "    </tr>\n",
       "    <tr>\n",
       "      <th>GCA_000218545.1</th>\n",
       "      <td>593907</td>\n",
       "      <td>11</td>\n",
       "      <td>Cellulomonas gilvus ATCC 13127</td>\n",
       "      <td>Bacteria</td>\n",
       "      <td>Actinobacteria</td>\n",
       "      <td>Actinobacteria</td>\n",
       "      <td>Micrococcales</td>\n",
       "      <td>Cellulomonadaceae</td>\n",
       "      <td>Cellulomonas</td>\n",
       "      <td>Cellulomonas gilvus</td>\n",
       "      <td>Cellulomonas gilvus ATCC 13127</td>\n",
       "      <td>Complete Genome</td>\n",
       "    </tr>\n",
       "    <tr>\n",
       "      <th>GCA_000020965.1</th>\n",
       "      <td>309799</td>\n",
       "      <td>14</td>\n",
       "      <td>Dictyoglomus thermophilum H-6-12</td>\n",
       "      <td>Bacteria</td>\n",
       "      <td>Dictyoglomi</td>\n",
       "      <td>Dictyoglomia</td>\n",
       "      <td>Dictyoglomales</td>\n",
       "      <td>Dictyoglomaceae</td>\n",
       "      <td>Dictyoglomus</td>\n",
       "      <td>Dictyoglomus thermophilum</td>\n",
       "      <td>Dictyoglomus thermophilum H-6-12</td>\n",
       "      <td>Complete Genome</td>\n",
       "    </tr>\n",
       "    <tr>\n",
       "      <th>GCA_000012885.1</th>\n",
       "      <td>338963</td>\n",
       "      <td>19</td>\n",
       "      <td>Pelobacter carbinolicus DSM 2380</td>\n",
       "      <td>Bacteria</td>\n",
       "      <td>Proteobacteria</td>\n",
       "      <td>Deltaproteobacteria</td>\n",
       "      <td>Desulfuromonadales</td>\n",
       "      <td>Desulfuromonadaceae</td>\n",
       "      <td>Pelobacter</td>\n",
       "      <td>Pelobacter carbinolicus</td>\n",
       "      <td>Pelobacter carbinolicus DSM 2380</td>\n",
       "      <td>Complete Genome</td>\n",
       "    </tr>\n",
       "    <tr>\n",
       "      <th>GCA_001735525.1</th>\n",
       "      <td>23</td>\n",
       "      <td>23</td>\n",
       "      <td>Shewanella colwelliana</td>\n",
       "      <td>Bacteria</td>\n",
       "      <td>Proteobacteria</td>\n",
       "      <td>Gammaproteobacteria</td>\n",
       "      <td>Alteromonadales</td>\n",
       "      <td>Shewanellaceae</td>\n",
       "      <td>Shewanella</td>\n",
       "      <td>NaN</td>\n",
       "      <td>Shewanella colwelliana</td>\n",
       "      <td>Scaffold</td>\n",
       "    </tr>\n",
       "  </tbody>\n",
       "</table>\n",
       "</div>"
      ],
      "text/plain": [
       "                     taxid  species_taxid                     organism_name  \\\n",
       "assembly_accession                                                            \n",
       "GCA_000010525.1     438753              7  Azorhizobium caulinodans ORS 571   \n",
       "GCA_000218545.1     593907             11    Cellulomonas gilvus ATCC 13127   \n",
       "GCA_000020965.1     309799             14  Dictyoglomus thermophilum H-6-12   \n",
       "GCA_000012885.1     338963             19  Pelobacter carbinolicus DSM 2380   \n",
       "GCA_001735525.1         23             23            Shewanella colwelliana   \n",
       "\n",
       "                      domain          phylum                class  \\\n",
       "assembly_accession                                                  \n",
       "GCA_000010525.1     Bacteria  Proteobacteria  Alphaproteobacteria   \n",
       "GCA_000218545.1     Bacteria  Actinobacteria       Actinobacteria   \n",
       "GCA_000020965.1     Bacteria     Dictyoglomi         Dictyoglomia   \n",
       "GCA_000012885.1     Bacteria  Proteobacteria  Deltaproteobacteria   \n",
       "GCA_001735525.1     Bacteria  Proteobacteria  Gammaproteobacteria   \n",
       "\n",
       "                                 order               family         genus  \\\n",
       "assembly_accession                                                          \n",
       "GCA_000010525.1            Rhizobiales    Xanthobacteraceae  Azorhizobium   \n",
       "GCA_000218545.1          Micrococcales    Cellulomonadaceae  Cellulomonas   \n",
       "GCA_000020965.1         Dictyoglomales      Dictyoglomaceae  Dictyoglomus   \n",
       "GCA_000012885.1     Desulfuromonadales  Desulfuromonadaceae    Pelobacter   \n",
       "GCA_001735525.1        Alteromonadales       Shewanellaceae    Shewanella   \n",
       "\n",
       "                                      species  \\\n",
       "assembly_accession                              \n",
       "GCA_000010525.1      Azorhizobium caulinodans   \n",
       "GCA_000218545.1           Cellulomonas gilvus   \n",
       "GCA_000020965.1     Dictyoglomus thermophilum   \n",
       "GCA_000012885.1       Pelobacter carbinolicus   \n",
       "GCA_001735525.1                           NaN   \n",
       "\n",
       "                                              strain   assembly_level  \n",
       "assembly_accession                                                     \n",
       "GCA_000010525.1     Azorhizobium caulinodans ORS 571  Complete Genome  \n",
       "GCA_000218545.1       Cellulomonas gilvus ATCC 13127  Complete Genome  \n",
       "GCA_000020965.1     Dictyoglomus thermophilum H-6-12  Complete Genome  \n",
       "GCA_000012885.1     Pelobacter carbinolicus DSM 2380  Complete Genome  \n",
       "GCA_001735525.1               Shewanella colwelliana         Scaffold  "
      ]
     },
     "execution_count": 3,
     "metadata": {},
     "output_type": "execute_result"
    }
   ],
   "source": [
    "assemblies = pd.read_csv(os.path.join(os.getcwd(), 'data/assemblies.csv'), index_col='assembly_accession')\n",
    "assemblies.head()"
   ]
  },
  {
   "cell_type": "markdown",
   "metadata": {},
   "source": [
    "## Statistics\n",
    "\n",
    "### Number of unique species"
   ]
  },
  {
   "cell_type": "code",
   "execution_count": 4,
   "metadata": {},
   "outputs": [
    {
     "name": "stdout",
     "output_type": "stream",
     "text": [
      "Number of assemblies: 19,741\n",
      "Number of unique species: 19,228\n"
     ]
    }
   ],
   "source": [
    "n_unique_species = len(assemblies['species_taxid'].unique())\n",
    "print(f'Number of assemblies: {len(assemblies):,}')\n",
    "print(f'Number of unique species: {n_unique_species:,}')"
   ]
  },
  {
   "cell_type": "markdown",
   "metadata": {},
   "source": [
    "### Bacteria vs Archaea"
   ]
  },
  {
   "cell_type": "code",
   "execution_count": 5,
   "metadata": {},
   "outputs": [
    {
     "data": {
      "text/html": [
       "<div>\n",
       "<style scoped>\n",
       "    .dataframe tbody tr th:only-of-type {\n",
       "        vertical-align: middle;\n",
       "    }\n",
       "\n",
       "    .dataframe tbody tr th {\n",
       "        vertical-align: top;\n",
       "    }\n",
       "\n",
       "    .dataframe thead th {\n",
       "        text-align: right;\n",
       "    }\n",
       "</style>\n",
       "<table border=\"1\" class=\"dataframe\">\n",
       "  <thead>\n",
       "    <tr style=\"text-align: right;\">\n",
       "      <th></th>\n",
       "      <th>count</th>\n",
       "    </tr>\n",
       "    <tr>\n",
       "      <th>domain</th>\n",
       "      <th></th>\n",
       "    </tr>\n",
       "  </thead>\n",
       "  <tbody>\n",
       "    <tr>\n",
       "      <th>Archaea</th>\n",
       "      <td>1419</td>\n",
       "    </tr>\n",
       "    <tr>\n",
       "      <th>Bacteria</th>\n",
       "      <td>18322</td>\n",
       "    </tr>\n",
       "  </tbody>\n",
       "</table>\n",
       "</div>"
      ],
      "text/plain": [
       "          count\n",
       "domain         \n",
       "Archaea    1419\n",
       "Bacteria  18322"
      ]
     },
     "execution_count": 5,
     "metadata": {},
     "output_type": "execute_result"
    }
   ],
   "source": [
    "domain_count = assemblies[['domain', 'taxid']].groupby('domain').count()\n",
    "domain_count.columns = ['count']\n",
    "domain_count"
   ]
  },
  {
   "cell_type": "markdown",
   "metadata": {},
   "source": [
    "### Taxonomy: phylum"
   ]
  },
  {
   "cell_type": "code",
   "execution_count": 6,
   "metadata": {},
   "outputs": [
    {
     "name": "stdout",
     "output_type": "stream",
     "text": [
      "Top 20 phylum (including N/A), representing 92% of all assemblies:\n"
     ]
    },
    {
     "data": {
      "text/html": [
       "<div>\n",
       "<style scoped>\n",
       "    .dataframe tbody tr th:only-of-type {\n",
       "        vertical-align: middle;\n",
       "    }\n",
       "\n",
       "    .dataframe tbody tr th {\n",
       "        vertical-align: top;\n",
       "    }\n",
       "\n",
       "    .dataframe thead th {\n",
       "        text-align: right;\n",
       "    }\n",
       "</style>\n",
       "<table border=\"1\" class=\"dataframe\">\n",
       "  <thead>\n",
       "    <tr style=\"text-align: right;\">\n",
       "      <th></th>\n",
       "      <th></th>\n",
       "      <th>count</th>\n",
       "      <th>percent</th>\n",
       "    </tr>\n",
       "    <tr>\n",
       "      <th>domain</th>\n",
       "      <th>phylum</th>\n",
       "      <th></th>\n",
       "      <th></th>\n",
       "    </tr>\n",
       "  </thead>\n",
       "  <tbody>\n",
       "    <tr>\n",
       "      <th rowspan=\"4\" valign=\"top\">Bacteria</th>\n",
       "      <th>Proteobacteria</th>\n",
       "      <td>6755</td>\n",
       "      <td>34.2</td>\n",
       "    </tr>\n",
       "    <tr>\n",
       "      <th>Firmicutes</th>\n",
       "      <td>3635</td>\n",
       "      <td>18.4</td>\n",
       "    </tr>\n",
       "    <tr>\n",
       "      <th>Bacteroidetes</th>\n",
       "      <td>2302</td>\n",
       "      <td>11.7</td>\n",
       "    </tr>\n",
       "    <tr>\n",
       "      <th>Actinobacteria</th>\n",
       "      <td>1885</td>\n",
       "      <td>9.5</td>\n",
       "    </tr>\n",
       "    <tr>\n",
       "      <th>Archaea</th>\n",
       "      <th>Euryarchaeota</th>\n",
       "      <td>999</td>\n",
       "      <td>5.1</td>\n",
       "    </tr>\n",
       "    <tr>\n",
       "      <th rowspan=\"7\" valign=\"top\">Bacteria</th>\n",
       "      <th>Cyanobacteria</th>\n",
       "      <td>471</td>\n",
       "      <td>2.4</td>\n",
       "    </tr>\n",
       "    <tr>\n",
       "      <th>N/A</th>\n",
       "      <td>371</td>\n",
       "      <td>1.9</td>\n",
       "    </tr>\n",
       "    <tr>\n",
       "      <th>Chloroflexi</th>\n",
       "      <td>317</td>\n",
       "      <td>1.6</td>\n",
       "    </tr>\n",
       "    <tr>\n",
       "      <th>Spirochaetes</th>\n",
       "      <td>225</td>\n",
       "      <td>1.1</td>\n",
       "    </tr>\n",
       "    <tr>\n",
       "      <th>Verrucomicrobia</th>\n",
       "      <td>195</td>\n",
       "      <td>1.0</td>\n",
       "    </tr>\n",
       "    <tr>\n",
       "      <th>Tenericutes</th>\n",
       "      <td>157</td>\n",
       "      <td>0.8</td>\n",
       "    </tr>\n",
       "    <tr>\n",
       "      <th>Planctomycetes</th>\n",
       "      <td>127</td>\n",
       "      <td>0.6</td>\n",
       "    </tr>\n",
       "    <tr>\n",
       "      <th>Archaea</th>\n",
       "      <th>Crenarchaeota</th>\n",
       "      <td>113</td>\n",
       "      <td>0.6</td>\n",
       "    </tr>\n",
       "    <tr>\n",
       "      <th>Bacteria</th>\n",
       "      <th>Acidobacteria</th>\n",
       "      <td>109</td>\n",
       "      <td>0.6</td>\n",
       "    </tr>\n",
       "    <tr>\n",
       "      <th>Archaea</th>\n",
       "      <th>Thaumarchaeota</th>\n",
       "      <td>96</td>\n",
       "      <td>0.5</td>\n",
       "    </tr>\n",
       "    <tr>\n",
       "      <th>Bacteria</th>\n",
       "      <th>Nitrospirae</th>\n",
       "      <td>90</td>\n",
       "      <td>0.5</td>\n",
       "    </tr>\n",
       "    <tr>\n",
       "      <th>Archaea</th>\n",
       "      <th>N/A</th>\n",
       "      <td>75</td>\n",
       "      <td>0.4</td>\n",
       "    </tr>\n",
       "    <tr>\n",
       "      <th rowspan=\"3\" valign=\"top\">Bacteria</th>\n",
       "      <th>Deinococcus-Thermus</th>\n",
       "      <td>75</td>\n",
       "      <td>0.4</td>\n",
       "    </tr>\n",
       "    <tr>\n",
       "      <th>Candidatus Omnitrophica</th>\n",
       "      <td>68</td>\n",
       "      <td>0.3</td>\n",
       "    </tr>\n",
       "    <tr>\n",
       "      <th>Elusimicrobia</th>\n",
       "      <td>63</td>\n",
       "      <td>0.3</td>\n",
       "    </tr>\n",
       "  </tbody>\n",
       "</table>\n",
       "</div>"
      ],
      "text/plain": [
       "                                  count  percent\n",
       "domain   phylum                                 \n",
       "Bacteria Proteobacteria            6755     34.2\n",
       "         Firmicutes                3635     18.4\n",
       "         Bacteroidetes             2302     11.7\n",
       "         Actinobacteria            1885      9.5\n",
       "Archaea  Euryarchaeota              999      5.1\n",
       "Bacteria Cyanobacteria              471      2.4\n",
       "         N/A                        371      1.9\n",
       "         Chloroflexi                317      1.6\n",
       "         Spirochaetes               225      1.1\n",
       "         Verrucomicrobia            195      1.0\n",
       "         Tenericutes                157      0.8\n",
       "         Planctomycetes             127      0.6\n",
       "Archaea  Crenarchaeota              113      0.6\n",
       "Bacteria Acidobacteria              109      0.6\n",
       "Archaea  Thaumarchaeota              96      0.5\n",
       "Bacteria Nitrospirae                 90      0.5\n",
       "Archaea  N/A                         75      0.4\n",
       "Bacteria Deinococcus-Thermus         75      0.4\n",
       "         Candidatus Omnitrophica     68      0.3\n",
       "         Elusimicrobia               63      0.3"
      ]
     },
     "execution_count": 6,
     "metadata": {},
     "output_type": "execute_result"
    }
   ],
   "source": [
    "assemblies_tax = assemblies.copy()\n",
    "assemblies_tax['phylum'] = assemblies_tax['phylum'].fillna('N/A')\n",
    "phylum_count = assemblies_tax[['domain', 'phylum', 'taxid']].groupby(['domain', 'phylum']).count()\n",
    "phylum_count.columns = ['count']\n",
    "phylum_count['percent'] = phylum_count['count'].apply(lambda c: np.round(100 * c / len(assemblies), 1))\n",
    "\n",
    "top_k = 20\n",
    "top_k_phylum = phylum_count.sort_values('count', ascending=False).head(top_k)\n",
    "print(f\"Top {top_k} phylum (including N/A), representing {top_k_phylum['percent'].sum():.0f}% of all assemblies:\")\n",
    "top_k_phylum"
   ]
  },
  {
   "cell_type": "code",
   "execution_count": 7,
   "metadata": {},
   "outputs": [
    {
     "name": "stdout",
     "output_type": "stream",
     "text": [
      "Number of species with no phylum information: 446 (2.3%)\n"
     ]
    }
   ],
   "source": [
    "no_phylum_count = len(assemblies[assemblies['phylum'].isnull()])\n",
    "no_phylum_percent = 100 * no_phylum_count / len(assemblies)\n",
    "print(f'Number of species with no phylum information: {no_phylum_count:,} ({no_phylum_percent:.1f}%)')"
   ]
  },
  {
   "cell_type": "code",
   "execution_count": 8,
   "metadata": {},
   "outputs": [
    {
     "name": "stdout",
     "output_type": "stream",
     "text": [
      "Number of distinct phylums (excluding N/A): 166\n"
     ]
    }
   ],
   "source": [
    "n_distinct_phylums = len(assemblies[assemblies['phylum'].notnull()]['phylum'].unique())\n",
    "print(f'Number of distinct phylums (excluding N/A): {n_distinct_phylums:,}')"
   ]
  },
  {
   "cell_type": "markdown",
   "metadata": {},
   "source": [
    "## Assembly level"
   ]
  },
  {
   "cell_type": "code",
   "execution_count": 9,
   "metadata": {},
   "outputs": [
    {
     "data": {
      "text/html": [
       "<div>\n",
       "<style scoped>\n",
       "    .dataframe tbody tr th:only-of-type {\n",
       "        vertical-align: middle;\n",
       "    }\n",
       "\n",
       "    .dataframe tbody tr th {\n",
       "        vertical-align: top;\n",
       "    }\n",
       "\n",
       "    .dataframe thead th {\n",
       "        text-align: right;\n",
       "    }\n",
       "</style>\n",
       "<table border=\"1\" class=\"dataframe\">\n",
       "  <thead>\n",
       "    <tr style=\"text-align: right;\">\n",
       "      <th></th>\n",
       "      <th>count</th>\n",
       "      <th>percent</th>\n",
       "    </tr>\n",
       "    <tr>\n",
       "      <th>assembly_level</th>\n",
       "      <th></th>\n",
       "      <th></th>\n",
       "    </tr>\n",
       "  </thead>\n",
       "  <tbody>\n",
       "    <tr>\n",
       "      <th>Scaffold</th>\n",
       "      <td>10509</td>\n",
       "      <td>53.2</td>\n",
       "    </tr>\n",
       "    <tr>\n",
       "      <th>Contig</th>\n",
       "      <td>6361</td>\n",
       "      <td>32.2</td>\n",
       "    </tr>\n",
       "    <tr>\n",
       "      <th>Complete Genome</th>\n",
       "      <td>2592</td>\n",
       "      <td>13.1</td>\n",
       "    </tr>\n",
       "    <tr>\n",
       "      <th>Chromosome</th>\n",
       "      <td>279</td>\n",
       "      <td>1.4</td>\n",
       "    </tr>\n",
       "  </tbody>\n",
       "</table>\n",
       "</div>"
      ],
      "text/plain": [
       "                 count  percent\n",
       "assembly_level                 \n",
       "Scaffold         10509     53.2\n",
       "Contig            6361     32.2\n",
       "Complete Genome   2592     13.1\n",
       "Chromosome         279      1.4"
      ]
     },
     "execution_count": 9,
     "metadata": {},
     "output_type": "execute_result"
    }
   ],
   "source": [
    "assembly_levels = assemblies[['assembly_level', 'taxid']].groupby('assembly_level').count()\n",
    "assembly_levels.columns = ['count']\n",
    "assembly_levels['percent'] = assembly_levels['count'].apply(lambda c: np.round(100 * c / len(assemblies), 1))\n",
    "assembly_levels.sort_values('count', ascending=False)"
   ]
  },
  {
   "cell_type": "markdown",
   "metadata": {},
   "source": [
    "## Can I open gzipped files from python?"
   ]
  },
  {
   "cell_type": "code",
   "execution_count": 45,
   "metadata": {},
   "outputs": [],
   "source": [
    "# assembly = 'GCA_900110915.1'  ## Royal jelly?\n",
    "assembly = 'GCA_000186885.1'"
   ]
  },
  {
   "cell_type": "code",
   "execution_count": 46,
   "metadata": {},
   "outputs": [
    {
     "data": {
      "text/plain": [
       "taxid                                         577650\n",
       "species_taxid                                    894\n",
       "organism_name     Desulfobulbus propionicus DSM 2032\n",
       "domain                                      Bacteria\n",
       "phylum                                Proteobacteria\n",
       "class                            Deltaproteobacteria\n",
       "order                              Desulfobacterales\n",
       "family                              Desulfobulbaceae\n",
       "genus                                  Desulfobulbus\n",
       "species                    Desulfobulbus propionicus\n",
       "strain            Desulfobulbus propionicus DSM 2032\n",
       "assembly_level                       Complete Genome\n",
       "Name: GCA_000186885.1, dtype: object"
      ]
     },
     "execution_count": 46,
     "metadata": {},
     "output_type": "execute_result"
    }
   ],
   "source": [
    "assemblies.loc[assembly]"
   ]
  },
  {
   "cell_type": "code",
   "execution_count": 47,
   "metadata": {},
   "outputs": [
    {
     "name": "stdout",
     "output_type": "stream",
     "text": [
      "Number of Pfam records: 7,209\n"
     ]
    },
    {
     "data": {
      "text/html": [
       "<div>\n",
       "<style scoped>\n",
       "    .dataframe tbody tr th:only-of-type {\n",
       "        vertical-align: middle;\n",
       "    }\n",
       "\n",
       "    .dataframe tbody tr th {\n",
       "        vertical-align: top;\n",
       "    }\n",
       "\n",
       "    .dataframe thead th {\n",
       "        text-align: right;\n",
       "    }\n",
       "</style>\n",
       "<table border=\"1\" class=\"dataframe\">\n",
       "  <thead>\n",
       "    <tr style=\"text-align: right;\">\n",
       "      <th></th>\n",
       "      <th>assembly_accession</th>\n",
       "      <th>protein_id</th>\n",
       "      <th>query</th>\n",
       "      <th>query_id</th>\n",
       "      <th>label</th>\n",
       "    </tr>\n",
       "  </thead>\n",
       "  <tbody>\n",
       "    <tr>\n",
       "      <th>0</th>\n",
       "      <td>GCA_000186885.1</td>\n",
       "      <td>ADW16929.1</td>\n",
       "      <td>MreC</td>\n",
       "      <td>PF04085.14</td>\n",
       "      <td>rod-shape-determining-protein-MreC</td>\n",
       "    </tr>\n",
       "    <tr>\n",
       "      <th>1</th>\n",
       "      <td>GCA_000186885.1</td>\n",
       "      <td>ADW18252.1</td>\n",
       "      <td>MrpF_PhaF</td>\n",
       "      <td>PF04066.13</td>\n",
       "      <td>multisubunit-potassium/proton-antiporter,-PhaF...</td>\n",
       "    </tr>\n",
       "    <tr>\n",
       "      <th>2</th>\n",
       "      <td>GCA_000186885.1</td>\n",
       "      <td>ADW19265.1</td>\n",
       "      <td>Mrr_cat</td>\n",
       "      <td>PF04471.12</td>\n",
       "      <td>restriction-endonuclease</td>\n",
       "    </tr>\n",
       "    <tr>\n",
       "      <th>3</th>\n",
       "      <td>GCA_000186885.1</td>\n",
       "      <td>ADW19265.1</td>\n",
       "      <td>Mrr_cat_2</td>\n",
       "      <td>PF13156.6</td>\n",
       "      <td>restriction-endonuclease</td>\n",
       "    </tr>\n",
       "    <tr>\n",
       "      <th>4</th>\n",
       "      <td>GCA_000186885.1</td>\n",
       "      <td>ADW19265.1</td>\n",
       "      <td>Mrr_N</td>\n",
       "      <td>PF14338.6</td>\n",
       "      <td>restriction-endonuclease</td>\n",
       "    </tr>\n",
       "  </tbody>\n",
       "</table>\n",
       "</div>"
      ],
      "text/plain": [
       "  assembly_accession  protein_id      query    query_id  \\\n",
       "0    GCA_000186885.1  ADW16929.1       MreC  PF04085.14   \n",
       "1    GCA_000186885.1  ADW18252.1  MrpF_PhaF  PF04066.13   \n",
       "2    GCA_000186885.1  ADW19265.1    Mrr_cat  PF04471.12   \n",
       "3    GCA_000186885.1  ADW19265.1  Mrr_cat_2   PF13156.6   \n",
       "4    GCA_000186885.1  ADW19265.1      Mrr_N   PF14338.6   \n",
       "\n",
       "                                               label  \n",
       "0                 rod-shape-determining-protein-MreC  \n",
       "1  multisubunit-potassium/proton-antiporter,-PhaF...  \n",
       "2                           restriction-endonuclease  \n",
       "3                           restriction-endonuclease  \n",
       "4                           restriction-endonuclease  "
      ]
     },
     "execution_count": 47,
     "metadata": {},
     "output_type": "execute_result"
    }
   ],
   "source": [
    "pfam_path = f'/Users/srom/workspace/nbias/data/sequences/{assembly}/{assembly}_pfam.csv.gz'\n",
    "pfam_df = pd.read_csv(pfam_path)\n",
    "print(f'Number of Pfam records: {len(pfam_df):,}')\n",
    "pfam_df.head()"
   ]
  },
  {
   "cell_type": "code",
   "execution_count": 48,
   "metadata": {},
   "outputs": [
    {
     "name": "stdout",
     "output_type": "stream",
     "text": [
      "Number of TIGR records: 1,165\n"
     ]
    },
    {
     "data": {
      "text/html": [
       "<div>\n",
       "<style scoped>\n",
       "    .dataframe tbody tr th:only-of-type {\n",
       "        vertical-align: middle;\n",
       "    }\n",
       "\n",
       "    .dataframe tbody tr th {\n",
       "        vertical-align: top;\n",
       "    }\n",
       "\n",
       "    .dataframe thead th {\n",
       "        text-align: right;\n",
       "    }\n",
       "</style>\n",
       "<table border=\"1\" class=\"dataframe\">\n",
       "  <thead>\n",
       "    <tr style=\"text-align: right;\">\n",
       "      <th></th>\n",
       "      <th>assembly_accession</th>\n",
       "      <th>protein_id</th>\n",
       "      <th>query</th>\n",
       "      <th>query_id</th>\n",
       "      <th>label</th>\n",
       "    </tr>\n",
       "  </thead>\n",
       "  <tbody>\n",
       "    <tr>\n",
       "      <th>0</th>\n",
       "      <td>GCA_000186885.1</td>\n",
       "      <td>ADW17586.1</td>\n",
       "      <td>TIGR00001</td>\n",
       "      <td>TIGR00001</td>\n",
       "      <td>LSU-ribosomal-protein-L35P</td>\n",
       "    </tr>\n",
       "    <tr>\n",
       "      <th>1</th>\n",
       "      <td>GCA_000186885.1</td>\n",
       "      <td>ADW18531.1</td>\n",
       "      <td>TIGR00002</td>\n",
       "      <td>TIGR00002</td>\n",
       "      <td>SSU-ribosomal-protein-S16P</td>\n",
       "    </tr>\n",
       "    <tr>\n",
       "      <th>2</th>\n",
       "      <td>GCA_000186885.1</td>\n",
       "      <td>ADW18833.1</td>\n",
       "      <td>TIGR00003</td>\n",
       "      <td>TIGR00003</td>\n",
       "      <td>copper-translocating-P-type-ATPase</td>\n",
       "    </tr>\n",
       "    <tr>\n",
       "      <th>3</th>\n",
       "      <td>GCA_000186885.1</td>\n",
       "      <td>ADW16906.1</td>\n",
       "      <td>TIGR00004</td>\n",
       "      <td>TIGR00004</td>\n",
       "      <td>endoribonuclease-L-PSP</td>\n",
       "    </tr>\n",
       "    <tr>\n",
       "      <th>4</th>\n",
       "      <td>GCA_000186885.1</td>\n",
       "      <td>ADW18617.1</td>\n",
       "      <td>TIGR00005</td>\n",
       "      <td>TIGR00005</td>\n",
       "      <td>pseudouridine-synthase,-RluA-family</td>\n",
       "    </tr>\n",
       "  </tbody>\n",
       "</table>\n",
       "</div>"
      ],
      "text/plain": [
       "  assembly_accession  protein_id      query   query_id  \\\n",
       "0    GCA_000186885.1  ADW17586.1  TIGR00001  TIGR00001   \n",
       "1    GCA_000186885.1  ADW18531.1  TIGR00002  TIGR00002   \n",
       "2    GCA_000186885.1  ADW18833.1  TIGR00003  TIGR00003   \n",
       "3    GCA_000186885.1  ADW16906.1  TIGR00004  TIGR00004   \n",
       "4    GCA_000186885.1  ADW18617.1  TIGR00005  TIGR00005   \n",
       "\n",
       "                                 label  \n",
       "0           LSU-ribosomal-protein-L35P  \n",
       "1           SSU-ribosomal-protein-S16P  \n",
       "2   copper-translocating-P-type-ATPase  \n",
       "3               endoribonuclease-L-PSP  \n",
       "4  pseudouridine-synthase,-RluA-family  "
      ]
     },
     "execution_count": 48,
     "metadata": {},
     "output_type": "execute_result"
    }
   ],
   "source": [
    "tigr_path = f'/Users/srom/workspace/nbias/data/sequences/{assembly}/{assembly}_tigr.csv.gz'\n",
    "tigr_df = pd.read_csv(tigr_path)\n",
    "print(f'Number of TIGR records: {len(tigr_df):,}')\n",
    "tigr_df.head()"
   ]
  },
  {
   "cell_type": "code",
   "execution_count": null,
   "metadata": {},
   "outputs": [],
   "source": []
  },
  {
   "cell_type": "code",
   "execution_count": null,
   "metadata": {},
   "outputs": [],
   "source": []
  },
  {
   "cell_type": "code",
   "execution_count": 15,
   "metadata": {},
   "outputs": [
    {
     "data": {
      "text/html": [
       "<div>\n",
       "<style scoped>\n",
       "    .dataframe tbody tr th:only-of-type {\n",
       "        vertical-align: middle;\n",
       "    }\n",
       "\n",
       "    .dataframe tbody tr th {\n",
       "        vertical-align: top;\n",
       "    }\n",
       "\n",
       "    .dataframe thead th {\n",
       "        text-align: right;\n",
       "    }\n",
       "</style>\n",
       "<table border=\"1\" class=\"dataframe\">\n",
       "  <thead>\n",
       "    <tr style=\"text-align: right;\">\n",
       "      <th></th>\n",
       "      <th>protein_id</th>\n",
       "      <th>distance</th>\n",
       "      <th>probability</th>\n",
       "    </tr>\n",
       "  </thead>\n",
       "  <tbody>\n",
       "    <tr>\n",
       "      <th>0</th>\n",
       "      <td>KB907337.1_1</td>\n",
       "      <td>0.072647</td>\n",
       "      <td>0.927353</td>\n",
       "    </tr>\n",
       "    <tr>\n",
       "      <th>1</th>\n",
       "      <td>KB907337.1_2</td>\n",
       "      <td>0.082018</td>\n",
       "      <td>0.917982</td>\n",
       "    </tr>\n",
       "    <tr>\n",
       "      <th>2</th>\n",
       "      <td>KB907337.1_3</td>\n",
       "      <td>0.148301</td>\n",
       "      <td>0.851699</td>\n",
       "    </tr>\n",
       "    <tr>\n",
       "      <th>3</th>\n",
       "      <td>KB907337.1_4</td>\n",
       "      <td>0.126539</td>\n",
       "      <td>0.873461</td>\n",
       "    </tr>\n",
       "    <tr>\n",
       "      <th>4</th>\n",
       "      <td>KB907337.1_5</td>\n",
       "      <td>0.167576</td>\n",
       "      <td>0.832424</td>\n",
       "    </tr>\n",
       "  </tbody>\n",
       "</table>\n",
       "</div>"
      ],
      "text/plain": [
       "     protein_id  distance  probability\n",
       "0  KB907337.1_1  0.072647     0.927353\n",
       "1  KB907337.1_2  0.082018     0.917982\n",
       "2  KB907337.1_3  0.148301     0.851699\n",
       "3  KB907337.1_4  0.126539     0.873461\n",
       "4  KB907337.1_5  0.167576     0.832424"
      ]
     },
     "execution_count": 15,
     "metadata": {},
     "output_type": "execute_result"
    }
   ],
   "source": [
    "assembly = 'GCA_000381985.1'\n",
    "p = os.path.join(\n",
    "    os.getcwd(),\n",
    "    f'data/sequences/{assembly}/{assembly}tri_nucleotide_distance_to_mean.csv',\n",
    ")\n",
    "df = pd.read_csv(p)\n",
    "df.head()"
   ]
  },
  {
   "cell_type": "code",
   "execution_count": 18,
   "metadata": {},
   "outputs": [
    {
     "data": {
      "image/png": "[encoded data removed]",
      "text/plain": [
       "<Figure size 864x432 with 1 Axes>"
      ]
     },
     "metadata": {},
     "output_type": "display_data"
    }
   ],
   "source": [
    "_, ax = plt.subplots(1, 1, figsize=(12, 6))\n",
    "df['distance'].hist(ax=ax, bins=100);"
   ]
  },
  {
   "cell_type": "code",
   "execution_count": 20,
   "metadata": {},
   "outputs": [
    {
     "data": {
      "text/plain": [
       "(0.9530257799999999, 39, 1.0182767624020888)"
      ]
     },
     "execution_count": 20,
     "metadata": {},
     "output_type": "execute_result"
    }
   ],
   "source": [
    "q = df['probability'].quantile(0.99)\n",
    "v = df[df['probability'] > q]\n",
    "q, len(v), 100 * len(v) / len(df)"
   ]
  },
  {
   "cell_type": "code",
   "execution_count": null,
   "metadata": {},
   "outputs": [],
   "source": []
  }
 ],
 "metadata": {
  "kernelspec": {
   "display_name": "Python 3",
   "language": "python",
   "name": "python3"
  },
  "language_info": {
   "codemirror_mode": {
    "name": "ipython",
    "version": 3
   },
   "file_extension": ".py",
   "mimetype": "text/x-python",
   "name": "python",
   "nbconvert_exporter": "python",
   "pygments_lexer": "ipython3",
   "version": "3.7.9"
  }
 },
 "nbformat": 4,
 "nbformat_minor": 4
}
