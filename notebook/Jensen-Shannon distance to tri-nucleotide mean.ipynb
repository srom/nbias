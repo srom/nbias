{
 "cells": [
  {
   "cell_type": "code",
   "execution_count": 2,
   "metadata": {},
   "outputs": [],
   "source": [
    "import os\n",
    "\n",
    "import pandas as pd\n",
    "import numpy as np\n",
    "import matplotlib.pyplot as plt\n",
    "import seaborn as sns\n",
    "\n",
    "if os.getcwd().endswith('notebook'):\n",
    "    os.chdir('..')"
   ]
  },
  {
   "cell_type": "code",
   "execution_count": 3,
   "metadata": {},
   "outputs": [],
   "source": [
    "sns.set(palette='colorblind', font_scale=1.3)"
   ]
  },
  {
   "cell_type": "code",
   "execution_count": 4,
   "metadata": {},
   "outputs": [
    {
     "data": {
      "text/html": [
       "<div>\n",
       "<style scoped>\n",
       "    .dataframe tbody tr th:only-of-type {\n",
       "        vertical-align: middle;\n",
       "    }\n",
       "\n",
       "    .dataframe tbody tr th {\n",
       "        vertical-align: top;\n",
       "    }\n",
       "\n",
       "    .dataframe thead th {\n",
       "        text-align: right;\n",
       "    }\n",
       "</style>\n",
       "<table border=\"1\" class=\"dataframe\">\n",
       "  <thead>\n",
       "    <tr style=\"text-align: right;\">\n",
       "      <th></th>\n",
       "      <th>protein_id</th>\n",
       "      <th>distance</th>\n",
       "      <th>probability</th>\n",
       "    </tr>\n",
       "  </thead>\n",
       "  <tbody>\n",
       "    <tr>\n",
       "      <th>0</th>\n",
       "      <td>KB907337.1_1</td>\n",
       "      <td>0.072647</td>\n",
       "      <td>0.927353</td>\n",
       "    </tr>\n",
       "    <tr>\n",
       "      <th>1</th>\n",
       "      <td>KB907337.1_2</td>\n",
       "      <td>0.082018</td>\n",
       "      <td>0.917982</td>\n",
       "    </tr>\n",
       "    <tr>\n",
       "      <th>2</th>\n",
       "      <td>KB907337.1_3</td>\n",
       "      <td>0.148301</td>\n",
       "      <td>0.851699</td>\n",
       "    </tr>\n",
       "    <tr>\n",
       "      <th>3</th>\n",
       "      <td>KB907337.1_4</td>\n",
       "      <td>0.126539</td>\n",
       "      <td>0.873461</td>\n",
       "    </tr>\n",
       "    <tr>\n",
       "      <th>4</th>\n",
       "      <td>KB907337.1_5</td>\n",
       "      <td>0.167576</td>\n",
       "      <td>0.832424</td>\n",
       "    </tr>\n",
       "  </tbody>\n",
       "</table>\n",
       "</div>"
      ],
      "text/plain": [
       "     protein_id  distance  probability\n",
       "0  KB907337.1_1  0.072647     0.927353\n",
       "1  KB907337.1_2  0.082018     0.917982\n",
       "2  KB907337.1_3  0.148301     0.851699\n",
       "3  KB907337.1_4  0.126539     0.873461\n",
       "4  KB907337.1_5  0.167576     0.832424"
      ]
     },
     "execution_count": 4,
     "metadata": {},
     "output_type": "execute_result"
    }
   ],
   "source": [
    "assembly = 'GCA_000381985.1'\n",
    "p = os.path.join(\n",
    "    os.getcwd(),\n",
    "    f'data/sequences/{assembly}/{assembly}_tri_nucleotide_distance_to_mean.csv',\n",
    ")\n",
    "df = pd.read_csv(p)\n",
    "df.head()"
   ]
  },
  {
   "cell_type": "code",
   "execution_count": 5,
   "metadata": {},
   "outputs": [
    {
     "data": {
      "text/html": [
       "<div>\n",
       "<style scoped>\n",
       "    .dataframe tbody tr th:only-of-type {\n",
       "        vertical-align: middle;\n",
       "    }\n",
       "\n",
       "    .dataframe tbody tr th {\n",
       "        vertical-align: top;\n",
       "    }\n",
       "\n",
       "    .dataframe thead th {\n",
       "        text-align: right;\n",
       "    }\n",
       "</style>\n",
       "<table border=\"1\" class=\"dataframe\">\n",
       "  <thead>\n",
       "    <tr style=\"text-align: right;\">\n",
       "      <th></th>\n",
       "      <th>protein_id</th>\n",
       "      <th>distance</th>\n",
       "      <th>probability</th>\n",
       "    </tr>\n",
       "  </thead>\n",
       "  <tbody>\n",
       "    <tr>\n",
       "      <th>3036</th>\n",
       "      <td>KB907348.1_12</td>\n",
       "      <td>0.031420</td>\n",
       "      <td>0.968580</td>\n",
       "    </tr>\n",
       "    <tr>\n",
       "      <th>231</th>\n",
       "      <td>KB907337.1_232</td>\n",
       "      <td>0.034359</td>\n",
       "      <td>0.965641</td>\n",
       "    </tr>\n",
       "    <tr>\n",
       "      <th>3124</th>\n",
       "      <td>KB907348.1_100</td>\n",
       "      <td>0.036779</td>\n",
       "      <td>0.963221</td>\n",
       "    </tr>\n",
       "    <tr>\n",
       "      <th>2121</th>\n",
       "      <td>KB907342.1_149</td>\n",
       "      <td>0.037492</td>\n",
       "      <td>0.962508</td>\n",
       "    </tr>\n",
       "    <tr>\n",
       "      <th>1887</th>\n",
       "      <td>KB907341.1_172</td>\n",
       "      <td>0.037527</td>\n",
       "      <td>0.962473</td>\n",
       "    </tr>\n",
       "  </tbody>\n",
       "</table>\n",
       "</div>"
      ],
      "text/plain": [
       "          protein_id  distance  probability\n",
       "3036   KB907348.1_12  0.031420     0.968580\n",
       "231   KB907337.1_232  0.034359     0.965641\n",
       "3124  KB907348.1_100  0.036779     0.963221\n",
       "2121  KB907342.1_149  0.037492     0.962508\n",
       "1887  KB907341.1_172  0.037527     0.962473"
      ]
     },
     "execution_count": 5,
     "metadata": {},
     "output_type": "execute_result"
    }
   ],
   "source": [
    "df.sort_values('distance').head()"
   ]
  },
  {
   "cell_type": "code",
   "execution_count": 13,
   "metadata": {},
   "outputs": [
    {
     "data": {
      "image/png": "[encoded data removed]",
      "text/plain": [
       "<Figure size 864x432 with 1 Axes>"
      ]
     },
     "metadata": {},
     "output_type": "display_data"
    }
   ],
   "source": [
    "_, ax = plt.subplots(1, 1, figsize=(12, 6))\n",
    "df['distance'].hist(ax=ax, bins=100);\n",
    "ax.axvline(np.mean(df['distance'].values), color='orange');\n",
    "ax.axvline(np.exp(np.mean(np.log(df['distance'].values))), color='red');"
   ]
  },
  {
   "cell_type": "code",
   "execution_count": 15,
   "metadata": {},
   "outputs": [
    {
     "data": {
      "image/png": "[encoded data removed]",
      "text/plain": [
       "<Figure size 864x432 with 1 Axes>"
      ]
     },
     "metadata": {},
     "output_type": "display_data"
    }
   ],
   "source": [
    "_, ax = plt.subplots(1, 1, figsize=(12, 6))\n",
    "ax.hist(np.log(df['distance'].values), bins=100);\n",
    "ax.axvline(np.log(np.mean(df['distance'].values)), color='orange');\n",
    "ax.axvline(np.mean(np.log(df['distance'].values)), color='red');"
   ]
  },
  {
   "cell_type": "code",
   "execution_count": 8,
   "metadata": {},
   "outputs": [
    {
     "data": {
      "text/plain": [
       "(0.046974220000000066, 0.9530257799999999, 39, 1.0182767624020888)"
      ]
     },
     "execution_count": 8,
     "metadata": {},
     "output_type": "execute_result"
    }
   ],
   "source": [
    "q = df['probability'].quantile(0.99)\n",
    "v = df[df['probability'] > q]\n",
    "1-q, q, len(v), 100 * len(v) / len(df)"
   ]
  },
  {
   "cell_type": "code",
   "execution_count": null,
   "metadata": {},
   "outputs": [],
   "source": []
  },
  {
   "cell_type": "code",
   "execution_count": 8,
   "metadata": {},
   "outputs": [
    {
     "data": {
      "text/plain": [
       "(-3.460310646154662, -0.550403600730388)"
      ]
     },
     "execution_count": 8,
     "metadata": {},
     "output_type": "execute_result"
    }
   ],
   "source": [
    "log_dist = np.log(df['distance'].values)\n",
    "np.amin(log_dist), np.amax(log_dist)"
   ]
  },
  {
   "cell_type": "code",
   "execution_count": 9,
   "metadata": {},
   "outputs": [
    {
     "data": {
      "text/plain": [
       "(-4.0, 0.0)"
      ]
     },
     "execution_count": 9,
     "metadata": {},
     "output_type": "execute_result"
    }
   ],
   "source": [
    "min_ = np.floor(np.min(log_dist))\n",
    "max_ = 0.\n",
    "min_, max_"
   ]
  },
  {
   "cell_type": "code",
   "execution_count": 10,
   "metadata": {},
   "outputs": [
    {
     "data": {
      "image/png": "[encoded data removed]",
      "text/plain": [
       "<Figure size 864x432 with 1 Axes>"
      ]
     },
     "metadata": {},
     "output_type": "display_data"
    }
   ],
   "source": [
    "df['p'] = (np.log(df['distance'].values) - min_) / (max_ - min_)\n",
    "\n",
    "_, ax = plt.subplots(1, 1, figsize=(12, 6))\n",
    "ax.hist(df['p'].values, bins=100);"
   ]
  },
  {
   "cell_type": "code",
   "execution_count": 11,
   "metadata": {},
   "outputs": [
    {
     "data": {
      "text/html": [
       "<div>\n",
       "<style scoped>\n",
       "    .dataframe tbody tr th:only-of-type {\n",
       "        vertical-align: middle;\n",
       "    }\n",
       "\n",
       "    .dataframe tbody tr th {\n",
       "        vertical-align: top;\n",
       "    }\n",
       "\n",
       "    .dataframe thead th {\n",
       "        text-align: right;\n",
       "    }\n",
       "</style>\n",
       "<table border=\"1\" class=\"dataframe\">\n",
       "  <thead>\n",
       "    <tr style=\"text-align: right;\">\n",
       "      <th></th>\n",
       "      <th>protein_id</th>\n",
       "      <th>distance</th>\n",
       "      <th>probability</th>\n",
       "      <th>p</th>\n",
       "    </tr>\n",
       "  </thead>\n",
       "  <tbody>\n",
       "    <tr>\n",
       "      <th>3036</th>\n",
       "      <td>KB907348.1_12</td>\n",
       "      <td>0.031420</td>\n",
       "      <td>0.968580</td>\n",
       "      <td>0.134922</td>\n",
       "    </tr>\n",
       "    <tr>\n",
       "      <th>231</th>\n",
       "      <td>KB907337.1_232</td>\n",
       "      <td>0.034359</td>\n",
       "      <td>0.965641</td>\n",
       "      <td>0.157277</td>\n",
       "    </tr>\n",
       "    <tr>\n",
       "      <th>3124</th>\n",
       "      <td>KB907348.1_100</td>\n",
       "      <td>0.036779</td>\n",
       "      <td>0.963221</td>\n",
       "      <td>0.174293</td>\n",
       "    </tr>\n",
       "    <tr>\n",
       "      <th>2121</th>\n",
       "      <td>KB907342.1_149</td>\n",
       "      <td>0.037492</td>\n",
       "      <td>0.962508</td>\n",
       "      <td>0.179093</td>\n",
       "    </tr>\n",
       "    <tr>\n",
       "      <th>1887</th>\n",
       "      <td>KB907341.1_172</td>\n",
       "      <td>0.037527</td>\n",
       "      <td>0.962473</td>\n",
       "      <td>0.179326</td>\n",
       "    </tr>\n",
       "  </tbody>\n",
       "</table>\n",
       "</div>"
      ],
      "text/plain": [
       "          protein_id  distance  probability         p\n",
       "3036   KB907348.1_12  0.031420     0.968580  0.134922\n",
       "231   KB907337.1_232  0.034359     0.965641  0.157277\n",
       "3124  KB907348.1_100  0.036779     0.963221  0.174293\n",
       "2121  KB907342.1_149  0.037492     0.962508  0.179093\n",
       "1887  KB907341.1_172  0.037527     0.962473  0.179326"
      ]
     },
     "execution_count": 11,
     "metadata": {},
     "output_type": "execute_result"
    }
   ],
   "source": [
    "df.sort_values('p').head()"
   ]
  },
  {
   "cell_type": "markdown",
   "metadata": {},
   "source": [
    "## Assembly domain probabilities"
   ]
  },
  {
   "cell_type": "code",
   "execution_count": 31,
   "metadata": {},
   "outputs": [
    {
     "name": "stdout",
     "output_type": "stream",
     "text": [
      "/Users/srom/workspace/nbias/data/sequences/GCA_001994995.1/GCA_001994995.1_pfam_probability_left.csv\n"
     ]
    },
    {
     "data": {
      "text/html": [
       "<div>\n",
       "<style scoped>\n",
       "    .dataframe tbody tr th:only-of-type {\n",
       "        vertical-align: middle;\n",
       "    }\n",
       "\n",
       "    .dataframe tbody tr th {\n",
       "        vertical-align: top;\n",
       "    }\n",
       "\n",
       "    .dataframe thead th {\n",
       "        text-align: right;\n",
       "    }\n",
       "</style>\n",
       "<table border=\"1\" class=\"dataframe\">\n",
       "  <thead>\n",
       "    <tr style=\"text-align: right;\">\n",
       "      <th></th>\n",
       "      <th>id</th>\n",
       "      <th>query</th>\n",
       "      <th>log_probability</th>\n",
       "      <th>log_probability_random</th>\n",
       "      <th>n_elements</th>\n",
       "      <th>evidence</th>\n",
       "      <th>evidence_strength</th>\n",
       "    </tr>\n",
       "  </thead>\n",
       "  <tbody>\n",
       "    <tr>\n",
       "      <th>0</th>\n",
       "      <td>PF00990</td>\n",
       "      <td>GGDEF</td>\n",
       "      <td>-14.068408</td>\n",
       "      <td>-18.786727</td>\n",
       "      <td>37</td>\n",
       "      <td>2.049140</td>\n",
       "      <td>Decisive</td>\n",
       "    </tr>\n",
       "    <tr>\n",
       "      <th>1</th>\n",
       "      <td>PF00005</td>\n",
       "      <td>ABC_tran</td>\n",
       "      <td>-25.523487</td>\n",
       "      <td>-29.957213</td>\n",
       "      <td>59</td>\n",
       "      <td>1.925543</td>\n",
       "      <td>Very Strong</td>\n",
       "    </tr>\n",
       "    <tr>\n",
       "      <th>2</th>\n",
       "      <td>PF02518</td>\n",
       "      <td>HATPase_c</td>\n",
       "      <td>-17.194721</td>\n",
       "      <td>-21.325474</td>\n",
       "      <td>42</td>\n",
       "      <td>1.793963</td>\n",
       "      <td>Very Strong</td>\n",
       "    </tr>\n",
       "    <tr>\n",
       "      <th>3</th>\n",
       "      <td>PF00271</td>\n",
       "      <td>Helicase_C</td>\n",
       "      <td>-7.123115</td>\n",
       "      <td>-11.170486</td>\n",
       "      <td>22</td>\n",
       "      <td>1.757751</td>\n",
       "      <td>Very Strong</td>\n",
       "    </tr>\n",
       "    <tr>\n",
       "      <th>4</th>\n",
       "      <td>PF00563</td>\n",
       "      <td>EAL</td>\n",
       "      <td>-7.139973</td>\n",
       "      <td>-10.154987</td>\n",
       "      <td>20</td>\n",
       "      <td>1.309404</td>\n",
       "      <td>Strong</td>\n",
       "    </tr>\n",
       "    <tr>\n",
       "      <th>5</th>\n",
       "      <td>PF00672</td>\n",
       "      <td>HAMP</td>\n",
       "      <td>-11.347822</td>\n",
       "      <td>-14.216982</td>\n",
       "      <td>28</td>\n",
       "      <td>1.246061</td>\n",
       "      <td>Strong</td>\n",
       "    </tr>\n",
       "    <tr>\n",
       "      <th>6</th>\n",
       "      <td>PF04851</td>\n",
       "      <td>ResIII</td>\n",
       "      <td>-4.414631</td>\n",
       "      <td>-7.108491</td>\n",
       "      <td>14</td>\n",
       "      <td>1.169929</td>\n",
       "      <td>Strong</td>\n",
       "    </tr>\n",
       "    <tr>\n",
       "      <th>7</th>\n",
       "      <td>PF13304</td>\n",
       "      <td>AAA_21</td>\n",
       "      <td>-15.114038</td>\n",
       "      <td>-17.771228</td>\n",
       "      <td>35</td>\n",
       "      <td>1.154003</td>\n",
       "      <td>Strong</td>\n",
       "    </tr>\n",
       "    <tr>\n",
       "      <th>8</th>\n",
       "      <td>PF01966</td>\n",
       "      <td>HD</td>\n",
       "      <td>-8.620181</td>\n",
       "      <td>-11.170486</td>\n",
       "      <td>22</td>\n",
       "      <td>1.107583</td>\n",
       "      <td>Strong</td>\n",
       "    </tr>\n",
       "    <tr>\n",
       "      <th>9</th>\n",
       "      <td>PF00512</td>\n",
       "      <td>HisKA</td>\n",
       "      <td>-10.687864</td>\n",
       "      <td>-13.201484</td>\n",
       "      <td>26</td>\n",
       "      <td>1.091651</td>\n",
       "      <td>Strong</td>\n",
       "    </tr>\n",
       "    <tr>\n",
       "      <th>10</th>\n",
       "      <td>PF00015</td>\n",
       "      <td>MCPsignal</td>\n",
       "      <td>-7.507927</td>\n",
       "      <td>-9.647238</td>\n",
       "      <td>19</td>\n",
       "      <td>0.929091</td>\n",
       "      <td>Substantial</td>\n",
       "    </tr>\n",
       "    <tr>\n",
       "      <th>11</th>\n",
       "      <td>PF04055</td>\n",
       "      <td>Radical_SAM</td>\n",
       "      <td>-6.622782</td>\n",
       "      <td>-8.631739</td>\n",
       "      <td>17</td>\n",
       "      <td>0.872479</td>\n",
       "      <td>Substantial</td>\n",
       "    </tr>\n",
       "    <tr>\n",
       "      <th>12</th>\n",
       "      <td>PF00004</td>\n",
       "      <td>AAA</td>\n",
       "      <td>-8.162753</td>\n",
       "      <td>-10.154987</td>\n",
       "      <td>20</td>\n",
       "      <td>0.865217</td>\n",
       "      <td>Substantial</td>\n",
       "    </tr>\n",
       "    <tr>\n",
       "      <th>13</th>\n",
       "      <td>PF01926</td>\n",
       "      <td>MMR_HSR1</td>\n",
       "      <td>-10.291184</td>\n",
       "      <td>-12.185985</td>\n",
       "      <td>24</td>\n",
       "      <td>0.822902</td>\n",
       "      <td>Substantial</td>\n",
       "    </tr>\n",
       "    <tr>\n",
       "      <th>14</th>\n",
       "      <td>PF13487</td>\n",
       "      <td>HD_5</td>\n",
       "      <td>-6.255777</td>\n",
       "      <td>-8.123990</td>\n",
       "      <td>16</td>\n",
       "      <td>0.811354</td>\n",
       "      <td>Substantial</td>\n",
       "    </tr>\n",
       "    <tr>\n",
       "      <th>15</th>\n",
       "      <td>PF00270</td>\n",
       "      <td>DEAD</td>\n",
       "      <td>-2.752767</td>\n",
       "      <td>-4.569744</td>\n",
       "      <td>9</td>\n",
       "      <td>0.789103</td>\n",
       "      <td>Substantial</td>\n",
       "    </tr>\n",
       "    <tr>\n",
       "      <th>16</th>\n",
       "      <td>PF07992</td>\n",
       "      <td>Pyr_redox_2</td>\n",
       "      <td>-6.583953</td>\n",
       "      <td>-8.123990</td>\n",
       "      <td>16</td>\n",
       "      <td>0.668830</td>\n",
       "      <td>Substantial</td>\n",
       "    </tr>\n",
       "    <tr>\n",
       "      <th>17</th>\n",
       "      <td>PF02743</td>\n",
       "      <td>dCache_1</td>\n",
       "      <td>-3.219273</td>\n",
       "      <td>-4.569744</td>\n",
       "      <td>9</td>\n",
       "      <td>0.586502</td>\n",
       "      <td>Substantial</td>\n",
       "    </tr>\n",
       "    <tr>\n",
       "      <th>18</th>\n",
       "      <td>PF00009</td>\n",
       "      <td>GTP_EFTU</td>\n",
       "      <td>-6.815994</td>\n",
       "      <td>-8.123990</td>\n",
       "      <td>16</td>\n",
       "      <td>0.568055</td>\n",
       "      <td>Substantial</td>\n",
       "    </tr>\n",
       "    <tr>\n",
       "      <th>19</th>\n",
       "      <td>PF00664</td>\n",
       "      <td>ABC_membrane</td>\n",
       "      <td>-2.783964</td>\n",
       "      <td>-4.061995</td>\n",
       "      <td>8</td>\n",
       "      <td>0.555042</td>\n",
       "      <td>Substantial</td>\n",
       "    </tr>\n",
       "  </tbody>\n",
       "</table>\n",
       "</div>"
      ],
      "text/plain": [
       "         id         query  log_probability  log_probability_random  \\\n",
       "0   PF00990         GGDEF       -14.068408              -18.786727   \n",
       "1   PF00005      ABC_tran       -25.523487              -29.957213   \n",
       "2   PF02518     HATPase_c       -17.194721              -21.325474   \n",
       "3   PF00271    Helicase_C        -7.123115              -11.170486   \n",
       "4   PF00563           EAL        -7.139973              -10.154987   \n",
       "5   PF00672          HAMP       -11.347822              -14.216982   \n",
       "6   PF04851        ResIII        -4.414631               -7.108491   \n",
       "7   PF13304        AAA_21       -15.114038              -17.771228   \n",
       "8   PF01966            HD        -8.620181              -11.170486   \n",
       "9   PF00512         HisKA       -10.687864              -13.201484   \n",
       "10  PF00015     MCPsignal        -7.507927               -9.647238   \n",
       "11  PF04055   Radical_SAM        -6.622782               -8.631739   \n",
       "12  PF00004           AAA        -8.162753              -10.154987   \n",
       "13  PF01926      MMR_HSR1       -10.291184              -12.185985   \n",
       "14  PF13487          HD_5        -6.255777               -8.123990   \n",
       "15  PF00270          DEAD        -2.752767               -4.569744   \n",
       "16  PF07992   Pyr_redox_2        -6.583953               -8.123990   \n",
       "17  PF02743      dCache_1        -3.219273               -4.569744   \n",
       "18  PF00009      GTP_EFTU        -6.815994               -8.123990   \n",
       "19  PF00664  ABC_membrane        -2.783964               -4.061995   \n",
       "\n",
       "    n_elements  evidence evidence_strength  \n",
       "0           37  2.049140          Decisive  \n",
       "1           59  1.925543       Very Strong  \n",
       "2           42  1.793963       Very Strong  \n",
       "3           22  1.757751       Very Strong  \n",
       "4           20  1.309404            Strong  \n",
       "5           28  1.246061            Strong  \n",
       "6           14  1.169929            Strong  \n",
       "7           35  1.154003            Strong  \n",
       "8           22  1.107583            Strong  \n",
       "9           26  1.091651            Strong  \n",
       "10          19  0.929091       Substantial  \n",
       "11          17  0.872479       Substantial  \n",
       "12          20  0.865217       Substantial  \n",
       "13          24  0.822902       Substantial  \n",
       "14          16  0.811354       Substantial  \n",
       "15           9  0.789103       Substantial  \n",
       "16          16  0.668830       Substantial  \n",
       "17           9  0.586502       Substantial  \n",
       "18          16  0.568055       Substantial  \n",
       "19           8  0.555042       Substantial  "
      ]
     },
     "execution_count": 31,
     "metadata": {},
     "output_type": "execute_result"
    }
   ],
   "source": [
    "accession = 'GCA_001994995.1'\n",
    "domain_path = os.path.join(os.getcwd(), f'data/sequences/{accession}/{accession}_pfam_probability_left.csv')\n",
    "domain_df = pd.read_csv(domain_path)\n",
    "print(domain_path)\n",
    "domain_df.head(20)"
   ]
  },
  {
   "cell_type": "code",
   "execution_count": 53,
   "metadata": {},
   "outputs": [
    {
     "data": {
      "text/plain": [
       "0.704365036222725"
      ]
     },
     "execution_count": 53,
     "metadata": {},
     "output_type": "execute_result"
    }
   ],
   "source": [
    "i = 4\n",
    "np.log10((0.9**i) / (0.6**i))"
   ]
  },
  {
   "cell_type": "code",
   "execution_count": 56,
   "metadata": {},
   "outputs": [
    {
     "data": {
      "text/plain": [
       "array([0.68370602, 0.60184859])"
      ]
     },
     "execution_count": 56,
     "metadata": {},
     "output_type": "execute_result"
    }
   ],
   "source": [
    "v = np.exp((1/37) * np.array([-14.068408, -18.786727]))\n",
    "v"
   ]
  },
  {
   "cell_type": "code",
   "execution_count": 57,
   "metadata": {},
   "outputs": [
    {
     "data": {
      "text/plain": [
       "0.05538215960970999"
      ]
     },
     "execution_count": 57,
     "metadata": {},
     "output_type": "execute_result"
    }
   ],
   "source": [
    "np.log10(v[0]) - np.log10(v[1])"
   ]
  },
  {
   "cell_type": "code",
   "execution_count": 29,
   "metadata": {},
   "outputs": [
    {
     "data": {
      "image/png": "[encoded data removed]",
      "text/plain": [
       "<Figure size 864x432 with 1 Axes>"
      ]
     },
     "metadata": {},
     "output_type": "display_data"
    }
   ],
   "source": [
    "_, ax = plt.subplots(1, 1, figsize=(12, 6))\n",
    "ax.hist(domain_df['n_elements'].values, bins=50, log=True);"
   ]
  },
  {
   "cell_type": "code",
   "execution_count": 40,
   "metadata": {},
   "outputs": [
    {
     "data": {
      "image/png": "[encoded data removed]",
      "text/plain": [
       "<Figure size 864x432 with 1 Axes>"
      ]
     },
     "metadata": {},
     "output_type": "display_data"
    }
   ],
   "source": [
    "_, ax = plt.subplots(1, 1, figsize=(12, 6))\n",
    "ax.hist(np.exp(domain_df['log_probability'].values), bins=100);"
   ]
  },
  {
   "cell_type": "code",
   "execution_count": 42,
   "metadata": {},
   "outputs": [
    {
     "data": {
      "image/png": "[encoded data removed]",
      "text/plain": [
       "<Figure size 864x432 with 1 Axes>"
      ]
     },
     "metadata": {},
     "output_type": "display_data"
    }
   ],
   "source": [
    "_, ax = plt.subplots(1, 1, figsize=(12, 6))\n",
    "ax.hist(np.exp(domain_df['log_probability_random'].values), bins=10);"
   ]
  },
  {
   "cell_type": "markdown",
   "metadata": {},
   "source": [
    "## Phylum domain probabilities"
   ]
  },
  {
   "cell_type": "code",
   "execution_count": 39,
   "metadata": {},
   "outputs": [
    {
     "data": {
      "text/html": [
       "<div>\n",
       "<style scoped>\n",
       "    .dataframe tbody tr th:only-of-type {\n",
       "        vertical-align: middle;\n",
       "    }\n",
       "\n",
       "    .dataframe tbody tr th {\n",
       "        vertical-align: top;\n",
       "    }\n",
       "\n",
       "    .dataframe thead th {\n",
       "        text-align: right;\n",
       "    }\n",
       "</style>\n",
       "<table border=\"1\" class=\"dataframe\">\n",
       "  <thead>\n",
       "    <tr style=\"text-align: right;\">\n",
       "      <th></th>\n",
       "      <th>id</th>\n",
       "      <th>query</th>\n",
       "      <th>log_probability</th>\n",
       "      <th>log_probability_random</th>\n",
       "      <th>n_elements</th>\n",
       "      <th>evidence</th>\n",
       "      <th>evidence_strength</th>\n",
       "    </tr>\n",
       "  </thead>\n",
       "  <tbody>\n",
       "    <tr>\n",
       "      <th>0</th>\n",
       "      <td>PF07428</td>\n",
       "      <td>Tri3</td>\n",
       "      <td>-7.130448</td>\n",
       "      <td>-7.531113</td>\n",
       "      <td>1</td>\n",
       "      <td>0.174006</td>\n",
       "      <td>Weak</td>\n",
       "    </tr>\n",
       "    <tr>\n",
       "      <th>1</th>\n",
       "      <td>PF08811</td>\n",
       "      <td>DUF1800</td>\n",
       "      <td>-7.225100</td>\n",
       "      <td>-7.593856</td>\n",
       "      <td>1</td>\n",
       "      <td>0.160149</td>\n",
       "      <td>Weak</td>\n",
       "    </tr>\n",
       "    <tr>\n",
       "      <th>2</th>\n",
       "      <td>PF02983</td>\n",
       "      <td>Pro_Al_protease</td>\n",
       "      <td>-7.260810</td>\n",
       "      <td>-7.605768</td>\n",
       "      <td>1</td>\n",
       "      <td>0.149813</td>\n",
       "      <td>Weak</td>\n",
       "    </tr>\n",
       "    <tr>\n",
       "      <th>3</th>\n",
       "      <td>PF04992</td>\n",
       "      <td>RNA_pol_Rpb1_6</td>\n",
       "      <td>-6.486819</td>\n",
       "      <td>-6.824402</td>\n",
       "      <td>2</td>\n",
       "      <td>0.146611</td>\n",
       "      <td>Weak</td>\n",
       "    </tr>\n",
       "    <tr>\n",
       "      <th>4</th>\n",
       "      <td>PF04990</td>\n",
       "      <td>RNA_pol_Rpb1_7</td>\n",
       "      <td>-6.486819</td>\n",
       "      <td>-6.824402</td>\n",
       "      <td>2</td>\n",
       "      <td>0.146611</td>\n",
       "      <td>Weak</td>\n",
       "    </tr>\n",
       "    <tr>\n",
       "      <th>5</th>\n",
       "      <td>PF12684</td>\n",
       "      <td>DUF3799</td>\n",
       "      <td>-6.451696</td>\n",
       "      <td>-6.772559</td>\n",
       "      <td>2</td>\n",
       "      <td>0.139349</td>\n",
       "      <td>Weak</td>\n",
       "    </tr>\n",
       "    <tr>\n",
       "      <th>6</th>\n",
       "      <td>PF14459</td>\n",
       "      <td>Prok-E2_C</td>\n",
       "      <td>-7.162025</td>\n",
       "      <td>-7.478725</td>\n",
       "      <td>1</td>\n",
       "      <td>0.137541</td>\n",
       "      <td>Weak</td>\n",
       "    </tr>\n",
       "    <tr>\n",
       "      <th>7</th>\n",
       "      <td>PF04620</td>\n",
       "      <td>FlaA</td>\n",
       "      <td>-7.216843</td>\n",
       "      <td>-7.532259</td>\n",
       "      <td>1</td>\n",
       "      <td>0.136983</td>\n",
       "      <td>Weak</td>\n",
       "    </tr>\n",
       "    <tr>\n",
       "      <th>8</th>\n",
       "      <td>PF07881</td>\n",
       "      <td>Fucose_iso_N1</td>\n",
       "      <td>-6.534429</td>\n",
       "      <td>-6.837265</td>\n",
       "      <td>2</td>\n",
       "      <td>0.131520</td>\n",
       "      <td>Weak</td>\n",
       "    </tr>\n",
       "    <tr>\n",
       "      <th>9</th>\n",
       "      <td>PF07882</td>\n",
       "      <td>Fucose_iso_N2</td>\n",
       "      <td>-6.534429</td>\n",
       "      <td>-6.837265</td>\n",
       "      <td>2</td>\n",
       "      <td>0.131520</td>\n",
       "      <td>Weak</td>\n",
       "    </tr>\n",
       "    <tr>\n",
       "      <th>10</th>\n",
       "      <td>PF01214</td>\n",
       "      <td>CK_II_beta</td>\n",
       "      <td>-7.225446</td>\n",
       "      <td>-7.526912</td>\n",
       "      <td>1</td>\n",
       "      <td>0.130925</td>\n",
       "      <td>Weak</td>\n",
       "    </tr>\n",
       "    <tr>\n",
       "      <th>11</th>\n",
       "      <td>PF01232</td>\n",
       "      <td>Mannitol_dh</td>\n",
       "      <td>-6.417621</td>\n",
       "      <td>-6.716878</td>\n",
       "      <td>2</td>\n",
       "      <td>0.129966</td>\n",
       "      <td>Weak</td>\n",
       "    </tr>\n",
       "    <tr>\n",
       "      <th>12</th>\n",
       "      <td>PF18714</td>\n",
       "      <td>PI-TkoII_IV</td>\n",
       "      <td>-4.174398</td>\n",
       "      <td>-4.458906</td>\n",
       "      <td>20</td>\n",
       "      <td>0.123560</td>\n",
       "      <td>Weak</td>\n",
       "    </tr>\n",
       "    <tr>\n",
       "      <th>13</th>\n",
       "      <td>PF09147</td>\n",
       "      <td>DUF1933</td>\n",
       "      <td>-7.192236</td>\n",
       "      <td>-7.476383</td>\n",
       "      <td>1</td>\n",
       "      <td>0.123404</td>\n",
       "      <td>Weak</td>\n",
       "    </tr>\n",
       "    <tr>\n",
       "      <th>14</th>\n",
       "      <td>PF00194</td>\n",
       "      <td>Carb_anhydrase</td>\n",
       "      <td>-7.280322</td>\n",
       "      <td>-7.562069</td>\n",
       "      <td>1</td>\n",
       "      <td>0.122361</td>\n",
       "      <td>Weak</td>\n",
       "    </tr>\n",
       "    <tr>\n",
       "      <th>15</th>\n",
       "      <td>PF09989</td>\n",
       "      <td>DUF2229</td>\n",
       "      <td>-4.632956</td>\n",
       "      <td>-4.913338</td>\n",
       "      <td>13</td>\n",
       "      <td>0.121768</td>\n",
       "      <td>Weak</td>\n",
       "    </tr>\n",
       "    <tr>\n",
       "      <th>16</th>\n",
       "      <td>PF10421</td>\n",
       "      <td>OAS1_C</td>\n",
       "      <td>-6.123975</td>\n",
       "      <td>-6.399203</td>\n",
       "      <td>3</td>\n",
       "      <td>0.119530</td>\n",
       "      <td>Weak</td>\n",
       "    </tr>\n",
       "    <tr>\n",
       "      <th>17</th>\n",
       "      <td>PF13708</td>\n",
       "      <td>DUF4942</td>\n",
       "      <td>-7.266977</td>\n",
       "      <td>-7.539868</td>\n",
       "      <td>1</td>\n",
       "      <td>0.118515</td>\n",
       "      <td>Weak</td>\n",
       "    </tr>\n",
       "    <tr>\n",
       "      <th>18</th>\n",
       "      <td>PF13569</td>\n",
       "      <td>DUF4132</td>\n",
       "      <td>-7.238418</td>\n",
       "      <td>-7.508119</td>\n",
       "      <td>1</td>\n",
       "      <td>0.117130</td>\n",
       "      <td>Weak</td>\n",
       "    </tr>\n",
       "    <tr>\n",
       "      <th>19</th>\n",
       "      <td>PF13038</td>\n",
       "      <td>DUF3899</td>\n",
       "      <td>-7.083601</td>\n",
       "      <td>-7.350137</td>\n",
       "      <td>1</td>\n",
       "      <td>0.115755</td>\n",
       "      <td>Weak</td>\n",
       "    </tr>\n",
       "  </tbody>\n",
       "</table>\n",
       "</div>"
      ],
      "text/plain": [
       "         id            query  log_probability  log_probability_random  \\\n",
       "0   PF07428             Tri3        -7.130448               -7.531113   \n",
       "1   PF08811          DUF1800        -7.225100               -7.593856   \n",
       "2   PF02983  Pro_Al_protease        -7.260810               -7.605768   \n",
       "3   PF04992   RNA_pol_Rpb1_6        -6.486819               -6.824402   \n",
       "4   PF04990   RNA_pol_Rpb1_7        -6.486819               -6.824402   \n",
       "5   PF12684          DUF3799        -6.451696               -6.772559   \n",
       "6   PF14459        Prok-E2_C        -7.162025               -7.478725   \n",
       "7   PF04620             FlaA        -7.216843               -7.532259   \n",
       "8   PF07881    Fucose_iso_N1        -6.534429               -6.837265   \n",
       "9   PF07882    Fucose_iso_N2        -6.534429               -6.837265   \n",
       "10  PF01214       CK_II_beta        -7.225446               -7.526912   \n",
       "11  PF01232      Mannitol_dh        -6.417621               -6.716878   \n",
       "12  PF18714      PI-TkoII_IV        -4.174398               -4.458906   \n",
       "13  PF09147          DUF1933        -7.192236               -7.476383   \n",
       "14  PF00194   Carb_anhydrase        -7.280322               -7.562069   \n",
       "15  PF09989          DUF2229        -4.632956               -4.913338   \n",
       "16  PF10421           OAS1_C        -6.123975               -6.399203   \n",
       "17  PF13708          DUF4942        -7.266977               -7.539868   \n",
       "18  PF13569          DUF4132        -7.238418               -7.508119   \n",
       "19  PF13038          DUF3899        -7.083601               -7.350137   \n",
       "\n",
       "    n_elements  evidence evidence_strength  \n",
       "0            1  0.174006              Weak  \n",
       "1            1  0.160149              Weak  \n",
       "2            1  0.149813              Weak  \n",
       "3            2  0.146611              Weak  \n",
       "4            2  0.146611              Weak  \n",
       "5            2  0.139349              Weak  \n",
       "6            1  0.137541              Weak  \n",
       "7            1  0.136983              Weak  \n",
       "8            2  0.131520              Weak  \n",
       "9            2  0.131520              Weak  \n",
       "10           1  0.130925              Weak  \n",
       "11           2  0.129966              Weak  \n",
       "12          20  0.123560              Weak  \n",
       "13           1  0.123404              Weak  \n",
       "14           1  0.122361              Weak  \n",
       "15          13  0.121768              Weak  \n",
       "16           3  0.119530              Weak  \n",
       "17           1  0.118515              Weak  \n",
       "18           1  0.117130              Weak  \n",
       "19           1  0.115755              Weak  "
      ]
     },
     "execution_count": 39,
     "metadata": {},
     "output_type": "execute_result"
    }
   ],
   "source": [
    "phylum = 'euryarchaeota'\n",
    "phylum_path = os.path.join(os.getcwd(), f'data/phylum/{phylum}/{phylum}_pfam_probability_left.csv')\n",
    "phylum_df = pd.read_csv(phylum_path)\n",
    "phylum_df.head(20)"
   ]
  },
  {
   "cell_type": "code",
   "execution_count": 27,
   "metadata": {},
   "outputs": [
    {
     "data": {
      "image/png": "[encoded data removed]",
      "text/plain": [
       "<Figure size 864x432 with 1 Axes>"
      ]
     },
     "metadata": {},
     "output_type": "display_data"
    }
   ],
   "source": [
    "_, ax = plt.subplots(1, 1, figsize=(12, 6))\n",
    "ax.hist(phylum_df['n_elements'].values, bins=50, log=True);"
   ]
  },
  {
   "cell_type": "code",
   "execution_count": null,
   "metadata": {},
   "outputs": [],
   "source": []
  }
 ],
 "metadata": {
  "kernelspec": {
   "display_name": "Python 3",
   "language": "python",
   "name": "python3"
  },
  "language_info": {
   "codemirror_mode": {
    "name": "ipython",
    "version": 3
   },
   "file_extension": ".py",
   "mimetype": "text/x-python",
   "name": "python",
   "nbconvert_exporter": "python",
   "pygments_lexer": "ipython3",
   "version": "3.7.9"
  }
 },
 "nbformat": 4,
 "nbformat_minor": 4
}
