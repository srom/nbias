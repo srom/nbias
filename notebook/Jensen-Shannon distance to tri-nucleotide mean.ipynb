{
 "cells": [
  {
   "cell_type": "code",
   "execution_count": 2,
   "metadata": {},
   "outputs": [],
   "source": [
    "import os\n",
    "\n",
    "import pandas as pd\n",
    "import numpy as np\n",
    "import matplotlib.pyplot as plt\n",
    "import seaborn as sns\n",
    "\n",
    "if os.getcwd().endswith('notebook'):\n",
    "    os.chdir('..')"
   ]
  },
  {
   "cell_type": "code",
   "execution_count": 9,
   "metadata": {},
   "outputs": [],
   "source": [
    "sns.set(palette='colorblind', font_scale=1.3)"
   ]
  },
  {
   "cell_type": "code",
   "execution_count": 10,
   "metadata": {},
   "outputs": [
    {
     "data": {
      "text/html": [
       "<div>\n",
       "<style scoped>\n",
       "    .dataframe tbody tr th:only-of-type {\n",
       "        vertical-align: middle;\n",
       "    }\n",
       "\n",
       "    .dataframe tbody tr th {\n",
       "        vertical-align: top;\n",
       "    }\n",
       "\n",
       "    .dataframe thead th {\n",
       "        text-align: right;\n",
       "    }\n",
       "</style>\n",
       "<table border=\"1\" class=\"dataframe\">\n",
       "  <thead>\n",
       "    <tr style=\"text-align: right;\">\n",
       "      <th></th>\n",
       "      <th>protein_id</th>\n",
       "      <th>distance</th>\n",
       "      <th>probability</th>\n",
       "    </tr>\n",
       "  </thead>\n",
       "  <tbody>\n",
       "    <tr>\n",
       "      <th>0</th>\n",
       "      <td>KB907337.1_1</td>\n",
       "      <td>0.072647</td>\n",
       "      <td>0.927353</td>\n",
       "    </tr>\n",
       "    <tr>\n",
       "      <th>1</th>\n",
       "      <td>KB907337.1_2</td>\n",
       "      <td>0.082018</td>\n",
       "      <td>0.917982</td>\n",
       "    </tr>\n",
       "    <tr>\n",
       "      <th>2</th>\n",
       "      <td>KB907337.1_3</td>\n",
       "      <td>0.148301</td>\n",
       "      <td>0.851699</td>\n",
       "    </tr>\n",
       "    <tr>\n",
       "      <th>3</th>\n",
       "      <td>KB907337.1_4</td>\n",
       "      <td>0.126539</td>\n",
       "      <td>0.873461</td>\n",
       "    </tr>\n",
       "    <tr>\n",
       "      <th>4</th>\n",
       "      <td>KB907337.1_5</td>\n",
       "      <td>0.167576</td>\n",
       "      <td>0.832424</td>\n",
       "    </tr>\n",
       "  </tbody>\n",
       "</table>\n",
       "</div>"
      ],
      "text/plain": [
       "     protein_id  distance  probability\n",
       "0  KB907337.1_1  0.072647     0.927353\n",
       "1  KB907337.1_2  0.082018     0.917982\n",
       "2  KB907337.1_3  0.148301     0.851699\n",
       "3  KB907337.1_4  0.126539     0.873461\n",
       "4  KB907337.1_5  0.167576     0.832424"
      ]
     },
     "execution_count": 10,
     "metadata": {},
     "output_type": "execute_result"
    }
   ],
   "source": [
    "assembly = 'GCA_000381985.1'\n",
    "p = os.path.join(\n",
    "    os.getcwd(),\n",
    "    f'data/sequences/{assembly}/{assembly}_tri_nucleotide_distance_to_mean.csv',\n",
    ")\n",
    "df = pd.read_csv(p)\n",
    "df.head()"
   ]
  },
  {
   "cell_type": "code",
   "execution_count": 41,
   "metadata": {},
   "outputs": [
    {
     "data": {
      "text/html": [
       "<div>\n",
       "<style scoped>\n",
       "    .dataframe tbody tr th:only-of-type {\n",
       "        vertical-align: middle;\n",
       "    }\n",
       "\n",
       "    .dataframe tbody tr th {\n",
       "        vertical-align: top;\n",
       "    }\n",
       "\n",
       "    .dataframe thead th {\n",
       "        text-align: right;\n",
       "    }\n",
       "</style>\n",
       "<table border=\"1\" class=\"dataframe\">\n",
       "  <thead>\n",
       "    <tr style=\"text-align: right;\">\n",
       "      <th></th>\n",
       "      <th>protein_id</th>\n",
       "      <th>distance</th>\n",
       "      <th>probability</th>\n",
       "      <th>p</th>\n",
       "    </tr>\n",
       "  </thead>\n",
       "  <tbody>\n",
       "    <tr>\n",
       "      <th>3036</th>\n",
       "      <td>KB907348.1_12</td>\n",
       "      <td>0.031420</td>\n",
       "      <td>0.968580</td>\n",
       "      <td>0.134922</td>\n",
       "    </tr>\n",
       "    <tr>\n",
       "      <th>231</th>\n",
       "      <td>KB907337.1_232</td>\n",
       "      <td>0.034359</td>\n",
       "      <td>0.965641</td>\n",
       "      <td>0.157277</td>\n",
       "    </tr>\n",
       "    <tr>\n",
       "      <th>3124</th>\n",
       "      <td>KB907348.1_100</td>\n",
       "      <td>0.036779</td>\n",
       "      <td>0.963221</td>\n",
       "      <td>0.174293</td>\n",
       "    </tr>\n",
       "    <tr>\n",
       "      <th>2121</th>\n",
       "      <td>KB907342.1_149</td>\n",
       "      <td>0.037492</td>\n",
       "      <td>0.962508</td>\n",
       "      <td>0.179093</td>\n",
       "    </tr>\n",
       "    <tr>\n",
       "      <th>1887</th>\n",
       "      <td>KB907341.1_172</td>\n",
       "      <td>0.037527</td>\n",
       "      <td>0.962473</td>\n",
       "      <td>0.179326</td>\n",
       "    </tr>\n",
       "  </tbody>\n",
       "</table>\n",
       "</div>"
      ],
      "text/plain": [
       "          protein_id  distance  probability         p\n",
       "3036   KB907348.1_12  0.031420     0.968580  0.134922\n",
       "231   KB907337.1_232  0.034359     0.965641  0.157277\n",
       "3124  KB907348.1_100  0.036779     0.963221  0.174293\n",
       "2121  KB907342.1_149  0.037492     0.962508  0.179093\n",
       "1887  KB907341.1_172  0.037527     0.962473  0.179326"
      ]
     },
     "execution_count": 41,
     "metadata": {},
     "output_type": "execute_result"
    }
   ],
   "source": [
    "df.sort_values('distance').head()"
   ]
  },
  {
   "cell_type": "code",
   "execution_count": 11,
   "metadata": {},
   "outputs": [
    {
     "data": {
      "image/png": "[encoded data removed]",
      "text/plain": [
       "<Figure size 864x432 with 1 Axes>"
      ]
     },
     "metadata": {},
     "output_type": "display_data"
    }
   ],
   "source": [
    "_, ax = plt.subplots(1, 1, figsize=(12, 6))\n",
    "df['distance'].hist(ax=ax, bins=100);"
   ]
  },
  {
   "cell_type": "code",
   "execution_count": 15,
   "metadata": {},
   "outputs": [
    {
     "data": {
      "image/png": "[encoded data removed]",
      "text/plain": [
       "<Figure size 864x432 with 1 Axes>"
      ]
     },
     "metadata": {},
     "output_type": "display_data"
    }
   ],
   "source": [
    "_, ax = plt.subplots(1, 1, figsize=(12, 6))\n",
    "ax.hist(np.log(df['distance'].values), bins=100);"
   ]
  },
  {
   "cell_type": "code",
   "execution_count": 13,
   "metadata": {},
   "outputs": [
    {
     "data": {
      "text/plain": [
       "(0.046974220000000066, 0.9530257799999999, 39, 1.0182767624020888)"
      ]
     },
     "execution_count": 13,
     "metadata": {},
     "output_type": "execute_result"
    }
   ],
   "source": [
    "q = df['probability'].quantile(0.99)\n",
    "v = df[df['probability'] > q]\n",
    "1-q, q, len(v), 100 * len(v) / len(df)"
   ]
  },
  {
   "cell_type": "code",
   "execution_count": null,
   "metadata": {},
   "outputs": [],
   "source": []
  },
  {
   "cell_type": "code",
   "execution_count": 44,
   "metadata": {},
   "outputs": [
    {
     "data": {
      "text/plain": [
       "(-3.460310646154662, -0.550403600730388)"
      ]
     },
     "execution_count": 44,
     "metadata": {},
     "output_type": "execute_result"
    }
   ],
   "source": [
    "log_dist = np.log(df['distance'].values)\n",
    "np.amin(log_dist), np.amax(log_dist)"
   ]
  },
  {
   "cell_type": "code",
   "execution_count": 47,
   "metadata": {},
   "outputs": [
    {
     "data": {
      "text/plain": [
       "(-4.0, 0.0)"
      ]
     },
     "execution_count": 47,
     "metadata": {},
     "output_type": "execute_result"
    }
   ],
   "source": [
    "min_ = np.floor(np.min(log_dist))\n",
    "max_ = 0.\n",
    "min_, max_"
   ]
  },
  {
   "cell_type": "code",
   "execution_count": 48,
   "metadata": {},
   "outputs": [
    {
     "data": {
      "image/png": "[encoded data removed]",
      "text/plain": [
       "<Figure size 864x432 with 1 Axes>"
      ]
     },
     "metadata": {},
     "output_type": "display_data"
    }
   ],
   "source": [
    "df['p'] = (np.log(df['distance'].values) - min_) / (max_ - min_)\n",
    "\n",
    "_, ax = plt.subplots(1, 1, figsize=(12, 6))\n",
    "ax.hist(df['p'].values, bins=100);"
   ]
  },
  {
   "cell_type": "code",
   "execution_count": 49,
   "metadata": {},
   "outputs": [
    {
     "data": {
      "text/html": [
       "<div>\n",
       "<style scoped>\n",
       "    .dataframe tbody tr th:only-of-type {\n",
       "        vertical-align: middle;\n",
       "    }\n",
       "\n",
       "    .dataframe tbody tr th {\n",
       "        vertical-align: top;\n",
       "    }\n",
       "\n",
       "    .dataframe thead th {\n",
       "        text-align: right;\n",
       "    }\n",
       "</style>\n",
       "<table border=\"1\" class=\"dataframe\">\n",
       "  <thead>\n",
       "    <tr style=\"text-align: right;\">\n",
       "      <th></th>\n",
       "      <th>protein_id</th>\n",
       "      <th>distance</th>\n",
       "      <th>probability</th>\n",
       "      <th>p</th>\n",
       "    </tr>\n",
       "  </thead>\n",
       "  <tbody>\n",
       "    <tr>\n",
       "      <th>3036</th>\n",
       "      <td>KB907348.1_12</td>\n",
       "      <td>0.031420</td>\n",
       "      <td>0.968580</td>\n",
       "      <td>0.134922</td>\n",
       "    </tr>\n",
       "    <tr>\n",
       "      <th>231</th>\n",
       "      <td>KB907337.1_232</td>\n",
       "      <td>0.034359</td>\n",
       "      <td>0.965641</td>\n",
       "      <td>0.157277</td>\n",
       "    </tr>\n",
       "    <tr>\n",
       "      <th>3124</th>\n",
       "      <td>KB907348.1_100</td>\n",
       "      <td>0.036779</td>\n",
       "      <td>0.963221</td>\n",
       "      <td>0.174293</td>\n",
       "    </tr>\n",
       "    <tr>\n",
       "      <th>2121</th>\n",
       "      <td>KB907342.1_149</td>\n",
       "      <td>0.037492</td>\n",
       "      <td>0.962508</td>\n",
       "      <td>0.179093</td>\n",
       "    </tr>\n",
       "    <tr>\n",
       "      <th>1887</th>\n",
       "      <td>KB907341.1_172</td>\n",
       "      <td>0.037527</td>\n",
       "      <td>0.962473</td>\n",
       "      <td>0.179326</td>\n",
       "    </tr>\n",
       "  </tbody>\n",
       "</table>\n",
       "</div>"
      ],
      "text/plain": [
       "          protein_id  distance  probability         p\n",
       "3036   KB907348.1_12  0.031420     0.968580  0.134922\n",
       "231   KB907337.1_232  0.034359     0.965641  0.157277\n",
       "3124  KB907348.1_100  0.036779     0.963221  0.174293\n",
       "2121  KB907342.1_149  0.037492     0.962508  0.179093\n",
       "1887  KB907341.1_172  0.037527     0.962473  0.179326"
      ]
     },
     "execution_count": 49,
     "metadata": {},
     "output_type": "execute_result"
    }
   ],
   "source": [
    "df.sort_values('p').head()"
   ]
  },
  {
   "cell_type": "code",
   "execution_count": null,
   "metadata": {},
   "outputs": [],
   "source": []
  }
 ],
 "metadata": {
  "kernelspec": {
   "display_name": "Python 3",
   "language": "python",
   "name": "python3"
  },
  "language_info": {
   "codemirror_mode": {
    "name": "ipython",
    "version": 3
   },
   "file_extension": ".py",
   "mimetype": "text/x-python",
   "name": "python",
   "nbconvert_exporter": "python",
   "pygments_lexer": "ipython3",
   "version": "3.7.9"
  }
 },
 "nbformat": 4,
 "nbformat_minor": 4
}
