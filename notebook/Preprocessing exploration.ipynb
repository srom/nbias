{
 "cells": [
  {
   "cell_type": "code",
   "execution_count": 1,
   "metadata": {},
   "outputs": [],
   "source": [
    "import os\n",
    "import logging\n",
    "import re\n",
    "import gzip\n",
    "import shutil\n",
    "from pathlib import Path\n",
    "\n",
    "import pandas as pd\n",
    "import numpy as np\n",
    "import matplotlib.pyplot as plt\n",
    "import seaborn as sns\n",
    "from Bio import SeqIO\n",
    "from Bio.SeqRecord import SeqRecord\n",
    "import gffutils\n",
    "\n",
    "if os.getcwd().endswith('notebook'):\n",
    "    os.chdir('..')"
   ]
  },
  {
   "cell_type": "code",
   "execution_count": 2,
   "metadata": {},
   "outputs": [],
   "source": [
    "sns.set(palette='colorblind', font_scale=1.3)\n",
    "palette = sns.color_palette()\n",
    "logging.basicConfig(level=logging.INFO, format=\"%(asctime)s (%(levelname)s) %(message)s\")\n",
    "logger = logging.getLogger(__name__)"
   ]
  },
  {
   "cell_type": "markdown",
   "metadata": {},
   "source": [
    "## Exploration\n",
    "\n",
    "### Check how many unique proteomes are available"
   ]
  },
  {
   "cell_type": "code",
   "execution_count": 9,
   "metadata": {},
   "outputs": [
    {
     "name": "stdout",
     "output_type": "stream",
     "text": [
      "18,343\n",
      "CPU times: user 2min 30s, sys: 5.62 s, total: 2min 36s\n",
      "Wall time: 2min 36s\n"
     ]
    }
   ],
   "source": [
    "%%time\n",
    "proteome_fasta = os.path.join(\n",
    "    os.getcwd(), \n",
    "    'data/bacteria/DB_BACT95_HCLUST0.5/PROTEOMES_FASTA/AnnotatedGenomes/concat_bact95_hclust05.fasta',\n",
    ")\n",
    "assembly_re = r'^.+\\$(GCA_[^\\s]+)\\s?.+$'\n",
    "assembly_set = set()\n",
    "with open(proteome_fasta) as f:\n",
    "    for line in f:\n",
    "        if not line.startswith('>'):\n",
    "            continue\n",
    "            \n",
    "        m = re.match(assembly_re, line)\n",
    "        if m is None:\n",
    "            raise ValueError(line)\n",
    "        \n",
    "        assembly = m[1]\n",
    "        if assembly not in assembly_set:\n",
    "            assembly_set.add(assembly)\n",
    "        \n",
    "print(f'{len(assembly_set):,}')"
   ]
  },
  {
   "cell_type": "markdown",
   "metadata": {},
   "source": [
    "### Open gff"
   ]
  },
  {
   "cell_type": "code",
   "execution_count": 43,
   "metadata": {},
   "outputs": [],
   "source": [
    "cds_fasta_path = os.path.join(os.getcwd(), 'data/bacteria/GENOMES_FASTA/GCA_900626105.1_PRJEB29220_genomic.fna')\n",
    "with open(cds_fasta_path) as f:\n",
    "    cds_dict = SeqIO.to_dict(SeqIO.parse(f, \"fasta\"))"
   ]
  },
  {
   "cell_type": "code",
   "execution_count": 60,
   "metadata": {},
   "outputs": [
    {
     "name": "stdout",
     "output_type": "stream",
     "text": [
      "['__class__', '__delattr__', '__dict__', '__dir__', '__doc__', '__eq__', '__format__', '__ge__', '__getattribute__', '__getitem__', '__gt__', '__hash__', '__init__', '__init_subclass__', '__le__', '__len__', '__lt__', '__module__', '__ne__', '__new__', '__reduce__', '__reduce_ex__', '__repr__', '__setattr__', '__setitem__', '__sizeof__', '__str__', '__subclasshook__', '__unicode__', '__weakref__', 'astuple', 'attributes', 'bin', 'calc_bin', 'chrom', 'dialect', 'end', 'extra', 'featuretype', 'file_order', 'frame', 'id', 'keep_order', 'score', 'seqid', 'sequence', 'sort_attribute_values', 'source', 'start', 'stop', 'strand']\n",
      "UYZX01000002.1 1_1 299 1567 +\n",
      "1269\n",
      "\n",
      "ATGGCTCAGATCAGCCCCATCGTGAAGCAGGCCACCCCCGTGGTCGTAGAGAAGGCCGAGGGCAACTGGATCGTCGGCACCGACGGCGTGCGCTACCTCGACTTCACTTCCGGTATCGGCGTGACCTCGACCGGCCACTGCCACCCGCGCGTCGTCGCGGCCGCCCGCGAGCAGGTCGGCAAAGTCATCCACGCGCAGGCCACGACCGTGATGCACAAGCCGCTGCTCGAGCTCACCGAGAAGCTCAGCGATTACCTGCCCGAGAACCTCGACTCCGTCTTCTACGCGAACTCCGGCGCCGAGGCCGTCGAGGGCGCGTTGCGCCTCGCCCGCCAGGCGACGAACCGCCCCAACATCATCGCCTTTCAGGGCGGCTTCCACGGCCGCACCTCGGGCGCCTCGAGCATCACGACCGCGGGCACGAAGTTCCGCAGCAGCACCGTGCCGCTGATGGGCGGCGTCGTGATCGCGCCGTTCCCCTACGCCTACCGTCTCGGCATGAGCGAGGCGGATGCGGTGCGCTTCGCCCTGCGCGAGCTCGACTACATCTTCGCCACCGTCACGAACCCGAATGAGGTTGCGGGCTTCATCATCGAACCAGTGCTCGGCGACGGCGGATACCTGCCGGTGCCGCTCGAGTTCCTGCGCGGCATCGAGCAGCGCGCCCGCGAGCACGGCATCGTGCTCATCGTCGACGAGATTCAGTCGGGCGTCGGCCGCACCGGCGCCTTCTGGGCGCACACGCGCTCGGGCGTCTCGCCCGACATCCTGATCACCGCGAAGGGCATCGCCTCGGGCTTCCCGATCTCGGCCATTGCCGCGAGCAAGGAGCTCATGGCGAAGGGCCTGCCCGGCTCGCAGGGTGGCACCTACGGCGGCAACGCCGTCGCGGCCGCCGCGGCCATCGAGACGCTCGACGTCATCGACGACGAGCAGCTCGTGCACAACTCGGCCGAGCGTGGCGAGCAGCTGCAGGCCGGACTCAAGCGGCTGCAGGAGCAGTTCCCGGTCATCGGCGACGTGCGCGGGCTCGGCCTCATGCAGGCGATCGAGTTCACGACGCCAGATGGCGAAGCCGACGCCGCCACGGCGGCGGCCGTCCAGCAGGGCGCCGTCGCCGAGGAGCTCCTGCTGCTGCCGTGCGGGCCACTCGGTAATGTGATCCGCATCGTCCCGGCGCTCACGGTGAGCGCCGAGGAGGTCGACCTCGCGCTCGAGCGCCTTGAGCGCACCCTCGCGAAGGTCGTCACGCCCGCCTACGCGAACTAG\n",
      "\n",
      "MAQISPIVKQATPVVVEKAEGNWIVGTDGVRYLDFTSGIGVTSTGHCHPRVVAAAREQVGKVIHAQATTVMHKPLLELTEKLSDYLPENLDSVFYANSGAEAVEGALRLARQATNRPNIIAFQGGFHGRTSGASSITTAGTKFRSSTVPLMGGVVIAPFPYAYRLGMSEADAVRFALRELDYIFATVTNPNEVAGFIIEPVLGDGGYLPVPLEFLRGIEQRAREHGIVLIVDEIQSGVGRTGAFWAHTRSGVSPDILITAKGIASGFPISAIAASKELMAKGLPGSQGGTYGGNAVAAAAAIETLDVIDDEQLVHNSAERGEQLQAGLKRLQEQFPVIGDVRGLGLMQAIEFTTPDGEADAATAAAVQQGAVAEELLLLPCGPLGNVIRIVPALTVSAEEVDLALERLERTLAKVVTPAYAN*\n",
      "\n",
      "423\n"
     ]
    }
   ],
   "source": [
    "gff_path = os.path.join(os.getcwd(), 'data/bacteria/GENOMES_FASTA/GCA_900626105.1_PRJEB29220_genomic_prodigal.gff')\n",
    "annotations = gffutils.create_db(gff_path, ':memory:', merge_strategy='replace')\n",
    "for i, f in enumerate(annotations.features_of_type('CDS')):\n",
    "    print(dir(f))\n",
    "    print(f.seqid, f.id, f.start, f.end, f.strand)\n",
    "    \n",
    "    start_ix = start - 1\n",
    "    end_ix = end\n",
    "    \n",
    "    if f.strand == '+':\n",
    "        seq = cds_dict[f.seqid].seq[start_ix:end_ix]\n",
    "    else:\n",
    "        seq = cds_dict[f.seqid].seq.reverse_complement()[start_ix:end_ix]\n",
    "        \n",
    "    aa_seq = seq.translate()\n",
    "    \n",
    "    print(len(seq))\n",
    "    print()\n",
    "    print(seq._data)\n",
    "    print()\n",
    "    print(aa_seq)\n",
    "    print()\n",
    "    print(len(aa_seq))\n",
    "    break"
   ]
  },
  {
   "cell_type": "code",
   "execution_count": 67,
   "metadata": {},
   "outputs": [
    {
     "data": {
      "text/plain": [
       "dict_keys(['ID', 'partial', 'start_type', 'rbs_motif', 'rbs_spacer', 'gc_cont', 'conf', 'score', 'cscore', 'sscore', 'rscore', 'uscore', 'tscore'])"
      ]
     },
     "execution_count": 67,
     "metadata": {},
     "output_type": "execute_result"
    }
   ],
   "source": [
    "f.attributes.keys()"
   ]
  },
  {
   "cell_type": "code",
   "execution_count": 73,
   "metadata": {},
   "outputs": [
    {
     "data": {
      "text/plain": [
       "1"
      ]
     },
     "execution_count": 73,
     "metadata": {},
     "output_type": "execute_result"
    }
   ],
   "source": [
    "seq_record = SeqRecord(\n",
    "    seq,\n",
    "    id=f.id,\n",
    "    description='description',\n",
    ")\n",
    "#SeqIO.write([seq_record], os.path.join(os.getcwd(), 'data/test.fasta'), \"fasta\")"
   ]
  },
  {
   "cell_type": "markdown",
   "metadata": {},
   "source": [
    "## Unique assemblies? or do we need the version number too"
   ]
  },
  {
   "cell_type": "code",
   "execution_count": 78,
   "metadata": {},
   "outputs": [
    {
     "name": "stdout",
     "output_type": "stream",
     "text": [
      "18,343 18,343\n"
     ]
    }
   ],
   "source": [
    "genomes_path = os.path.join(os.getcwd(), 'data/bacteria/GENOMES_FASTA/')\n",
    "n_records = 0\n",
    "unique_assemblies = set()\n",
    "for path in Path(genomes_path).glob('*.fna'):\n",
    "    m = re.match(r'^(GCA_[^_]+)_.+\\.fna$', path.name)\n",
    "    if m is None:\n",
    "        print('NULL:', path.name)\n",
    "    else:\n",
    "        n_records += 1\n",
    "        unique_assemblies.add(m[1])\n",
    "\n",
    "print(f'{n_records:,}', f'{len(unique_assemblies):,}')"
   ]
  },
  {
   "cell_type": "markdown",
   "metadata": {},
   "source": [
    "No need to worry about the version number when naming files"
   ]
  },
  {
   "cell_type": "code",
   "execution_count": null,
   "metadata": {},
   "outputs": [],
   "source": []
  }
 ],
 "metadata": {
  "kernelspec": {
   "display_name": "Python 3",
   "language": "python",
   "name": "python3"
  },
  "language_info": {
   "codemirror_mode": {
    "name": "ipython",
    "version": 3
   },
   "file_extension": ".py",
   "mimetype": "text/x-python",
   "name": "python",
   "nbconvert_exporter": "python",
   "pygments_lexer": "ipython3",
   "version": "3.7.9"
  }
 },
 "nbformat": 4,
 "nbformat_minor": 4
}
